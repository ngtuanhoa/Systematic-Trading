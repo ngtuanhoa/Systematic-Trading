{
 "cells": [
  {
   "cell_type": "markdown",
   "metadata": {},
   "source": [
    "#### About this repository:\n",
    "\n",
    "The notebooks in this repository are meant to serve as comprehensive building blocks for establishing an algorithmic trading system. \n",
    " \n",
    "A number of sample trading strategies are included, along with methodologies to determine their robustness. Walk-Forward Analysis is one such well known technique, while Combinatorial Purged Cross Validation is a newer and more  rigorous methodology. Another useful and important concept is Meta Labelling, which predicts the probability of individual winning trades. All three techniques are utilized here to help improve the rigor of the systematic trading research process. \n",
    "\n",
    "Even though the methodologies presented in these notebooks can always be fine-tuned further, they are sophisticated enough to provide rigorous backtesting of any algorithmic trading strategy. After looking through this repository, one should gain an understanding of how algorithmic trading startegies are programmed and backtested. Identifying such strategies can simply be a matter of adapting algorithms found in research journals or trading websites; the aim of these notebooks is to determine a strategy's profitability and robustness. The final step of live trading a strategy should be merely trivial rewriting of a few lines of code in the Zipline version of the strategy. \n",
    "\n",
    "\n",
    "*Hoa Tuan Nguyen:* http://linkedin.com/in/hoatuannguyen/"
   ]
  },
  {
   "cell_type": "markdown",
   "metadata": {},
   "source": [
    "## Walk-Forward Analysis with Mixed Bollinger Bands Strategy:\n",
    "\n",
    "This notebook carries out the Walk-Forward Analysis (WFA) for my Mixed Bollinger Band strategy. \n",
    "\n",
    "While the functions in this notebook were written specifically to work with this strategy, it should take only a few minor tweaks to apply the WFA as implemented here to another strategy. Due to time constraint and a lack of immediate needs, the walk_forward function in this notebook (and similar functions in this repository) was not written to work seamlessly for any strategy. Some slight modifications are always required. \n",
    "\n",
    "The idea behind a WFA is simple: a trading strategy is optimized over a small train period, and the  best parameters' values are used to run the strategy on an out-of-sample test set. This process is repeated as we 'walk forward' in time - optimizing and testing on new data such that in the end, we attain the out-of-sample performance of the strategy for a period of one year or longer. \n",
    "\n",
    "In order to avoid overfitting to a small train period, we should first optimize the strategy over a long time window that includes multiple market types for the securities or set of securities of interest (note: make sure not to carry out the WFA on this same set of data later). This step will yield the optimized parameters' space where our strategy is profitable across different types of markets. We can then use this parameters' space in the objective function for our WFA.\n",
    "\n",
    "Walk-Forward Analysis provides a simple yet effective method to determine the robustness of any trading strategy. That said, our strategy in the end is still only backtested on one particular realization of the random path of the security's prices. It would obviously be better if we can carry out WFA on a longer time period of multiple years. However, this is not always possible. To address this drawback, we will resort to Combinatorial Purged Cross Validation, a technique explored in another notebook."
   ]
  },
  {
   "cell_type": "code",
   "execution_count": 1,
   "metadata": {
    "collapsed": true
   },
   "outputs": [
    {
     "name": "stderr",
     "output_type": "stream",
     "text": [
      "C:\\ProgramData\\Anaconda3\\lib\\site-packages\\pyfolio\\pos.py:26: UserWarning: Module \"zipline.assets\" not found; mutltipliers will not be applied to position notionals.\n",
      "  warnings.warn(\n"
     ]
    }
   ],
   "source": [
    "import pandas as pd\n",
    "import numpy as np\n",
    "import matplotlib.pyplot as plt\n",
    "import seaborn as sns\n",
    "sns.set()\n",
    "sns.set_style('ticks')\n",
    "%matplotlib inline\n",
    "\n",
    "import optuna\n",
    "import empyrical\n",
    "import pyfolio"
   ]
  },
  {
   "cell_type": "code",
   "execution_count": 2,
   "metadata": {},
   "outputs": [],
   "source": [
    "df = pd.read_csv('data/btc_2019_aug6_2020.csv', index_col=0, parse_dates=True)"
   ]
  },
  {
   "cell_type": "code",
   "execution_count": 3,
   "metadata": {},
   "outputs": [
    {
     "data": {
      "text/html": [
       "<div>\n",
       "<style scoped>\n",
       "    .dataframe tbody tr th:only-of-type {\n",
       "        vertical-align: middle;\n",
       "    }\n",
       "\n",
       "    .dataframe tbody tr th {\n",
       "        vertical-align: top;\n",
       "    }\n",
       "\n",
       "    .dataframe thead th {\n",
       "        text-align: right;\n",
       "    }\n",
       "</style>\n",
       "<table border=\"1\" class=\"dataframe\">\n",
       "  <thead>\n",
       "    <tr style=\"text-align: right;\">\n",
       "      <th></th>\n",
       "      <th>close</th>\n",
       "      <th>high</th>\n",
       "      <th>low</th>\n",
       "      <th>open</th>\n",
       "      <th>volume</th>\n",
       "    </tr>\n",
       "  </thead>\n",
       "  <tbody>\n",
       "    <tr>\n",
       "      <th>2019-01-01 00:00:00+00:00</th>\n",
       "      <td>3694.5</td>\n",
       "      <td>3694.5</td>\n",
       "      <td>3693.0</td>\n",
       "      <td>3693.0</td>\n",
       "      <td>241.351087</td>\n",
       "    </tr>\n",
       "    <tr>\n",
       "      <th>2019-01-01 00:01:00+00:00</th>\n",
       "      <td>3690.5</td>\n",
       "      <td>3694.5</td>\n",
       "      <td>3690.5</td>\n",
       "      <td>3694.5</td>\n",
       "      <td>178.451678</td>\n",
       "    </tr>\n",
       "    <tr>\n",
       "      <th>2019-01-01 00:02:00+00:00</th>\n",
       "      <td>3690.5</td>\n",
       "      <td>3691.0</td>\n",
       "      <td>3690.5</td>\n",
       "      <td>3690.5</td>\n",
       "      <td>53.144116</td>\n",
       "    </tr>\n",
       "    <tr>\n",
       "      <th>2019-01-01 00:03:00+00:00</th>\n",
       "      <td>3690.0</td>\n",
       "      <td>3691.0</td>\n",
       "      <td>3690.0</td>\n",
       "      <td>3690.5</td>\n",
       "      <td>71.344447</td>\n",
       "    </tr>\n",
       "    <tr>\n",
       "      <th>2019-01-01 00:04:00+00:00</th>\n",
       "      <td>3688.5</td>\n",
       "      <td>3690.5</td>\n",
       "      <td>3688.5</td>\n",
       "      <td>3690.5</td>\n",
       "      <td>194.159810</td>\n",
       "    </tr>\n",
       "  </tbody>\n",
       "</table>\n",
       "</div>"
      ],
      "text/plain": [
       "                            close    high     low    open      volume\n",
       "2019-01-01 00:00:00+00:00  3694.5  3694.5  3693.0  3693.0  241.351087\n",
       "2019-01-01 00:01:00+00:00  3690.5  3694.5  3690.5  3694.5  178.451678\n",
       "2019-01-01 00:02:00+00:00  3690.5  3691.0  3690.5  3690.5   53.144116\n",
       "2019-01-01 00:03:00+00:00  3690.0  3691.0  3690.0  3690.5   71.344447\n",
       "2019-01-01 00:04:00+00:00  3688.5  3690.5  3688.5  3690.5  194.159810"
      ]
     },
     "execution_count": 3,
     "metadata": {},
     "output_type": "execute_result"
    }
   ],
   "source": [
    "df.head()"
   ]
  },
  {
   "cell_type": "code",
   "execution_count": 4,
   "metadata": {
    "scrolled": false
   },
   "outputs": [
    {
     "data": {
      "text/plain": [
       "<matplotlib.axes._subplots.AxesSubplot at 0x12826162b20>"
      ]
     },
     "execution_count": 4,
     "metadata": {},
     "output_type": "execute_result"
    },
    {
     "data": {
      "image/png": "[encoded data removed]",
      "text/plain": [
       "<Figure size 1296x504 with 1 Axes>"
      ]
     },
     "metadata": {
      "needs_background": "light"
     },
     "output_type": "display_data"
    }
   ],
   "source": [
    "df.close.plot(figsize=(18,7))"
   ]
  },
  {
   "cell_type": "code",
   "execution_count": 5,
   "metadata": {},
   "outputs": [],
   "source": [
    "# Function to calculate Pessimistic Return on Margin from a cumulative return pandas series\n",
    "\n",
    "def PROM(cumRet):\n",
    "    trade_rets = (cumRet-cumRet.shift(1).fillna(1))\n",
    "    win_trades = trade_rets[trade_rets>0]\n",
    "    lose_trades = trade_rets[trade_rets<0]\n",
    "    adj_wins = len(win_trades) - np.sqrt(len(win_trades))\n",
    "    adj_losses = len(lose_trades) + np.sqrt(len(lose_trades))\n",
    "    avg_win = win_trades.mean()\n",
    "    avg_lose = lose_trades.mean()\n",
    "    return avg_win*adj_wins+avg_lose*adj_losses"
   ]
  },
  {
   "cell_type": "code",
   "execution_count": 6,
   "metadata": {},
   "outputs": [],
   "source": [
    "# helper function that returns daily returns for non-continuous cummulative returns\n",
    "\n",
    "def dailyRet_noncont(cumRet):\n",
    "    cumRet = cumRet.resample('1T').mean().fillna(method='ffill')\n",
    "    return (cumRet.resample('1D').last()/cumRet.resample('1D').last().shift(1)-1).dropna()"
   ]
  },
  {
   "cell_type": "code",
   "execution_count": 7,
   "metadata": {},
   "outputs": [],
   "source": [
    "def mixed_strategy_WF(data, start_cap, slow, fast, mult_std, pt=.04, sl=-.012):\n",
    "    lower_breached = False\n",
    "    upper_breached = False\n",
    "    long_pos = False\n",
    "    short_pos = False\n",
    "    \n",
    "    can_close = False\n",
    "    sideways_on = False\n",
    "    trending_on = False  \n",
    "    \n",
    "    longs = 0\n",
    "    shorts = 0\n",
    "    filled_price = 0\n",
    "    PnL = start_cap\n",
    "    cumRet = []\n",
    "    \n",
    "    data['sma_long'] = data.close.shift(1).rolling(slow).mean()\n",
    "    data['std_long'] = data.close.shift(1).rolling(slow).std()\n",
    "    data['sma_short'] = data.close.shift(1).rolling(fast).mean()\n",
    "    data['upper'] = data['sma_long'] + mult_std*data['std_long']\n",
    "    data['lower'] = data['sma_long'] - mult_std*data['std_long']\n",
    "    data.dropna(inplace=True)\n",
    "\n",
    "    for row in data.itertuples():\n",
    "        current_price = row.close\n",
    "        upper = row.upper\n",
    "        lower = row.lower\n",
    "        slow_mva = row.sma_long\n",
    "        fast_mva = row.sma_short\n",
    "        has_pos = long_pos + short_pos\n",
    "        \n",
    "        # put on trending trades\n",
    "        if fast_mva >= upper and not upper_breached and not has_pos and current_price <= fast_mva*1.005:\n",
    "            filled_price = current_price\n",
    "            long_pos = True\n",
    "            longs += 1\n",
    "            upper_breached = True\n",
    "            trending_on = True\n",
    "        elif fast_mva <= lower and not lower_breached and not has_pos and current_price >= fast_mva*0.995:\n",
    "            filled_price = current_price\n",
    "            short_pos = True\n",
    "            shorts += 1\n",
    "            lower_breached = True\n",
    "            trending_on = True\n",
    "\n",
    "        # put on sideways trades\n",
    "        elif not has_pos and lower_breached and fast_mva >= lower and current_price <= fast_mva*1.005:\n",
    "            filled_price = current_price\n",
    "            long_pos = True\n",
    "            longs += 1\n",
    "            lower_breached = False\n",
    "            sideways_on = True\n",
    "        elif not has_pos and upper_breached and fast_mva <= upper and current_price >= fast_mva*0.995:\n",
    "            filled_price = current_price\n",
    "            short_pos = True\n",
    "            shorts += 1\n",
    "            upper_breached = False\n",
    "            sideways_on = True\n",
    "        \n",
    "        # take profits or stop loss on short trending trade\n",
    "        elif trending_on and short_pos:\n",
    "            prct_changed = (filled_price - current_price) / filled_price\n",
    "            if not can_close and abs(prct_changed) >= .01:\n",
    "                can_close = True\n",
    "            if fast_mva >= lower and can_close:\n",
    "                short_pos = False\n",
    "                PnL *= (1+prct_changed)    # record realized PnL\n",
    "                lower_breached = False\n",
    "                can_close = False\n",
    "            else:\n",
    "                if prct_changed >= pt*1.75:\n",
    "                    short_pos = False\n",
    "                    PnL *= (1+prct_changed)\n",
    "                    can_close = False\n",
    "                    trending_on = False\n",
    "                elif prct_changed <= sl*1.5:\n",
    "                    short_pos = False\n",
    "                    PnL *= (1+prct_changed)\n",
    "                    can_close = False\n",
    "                    trending_on = False\n",
    "\n",
    "        # take profits or stop loss on long trending trade\n",
    "        elif trending_on and long_pos:\n",
    "            prct_changed = (current_price - filled_price) / filled_price\n",
    "            if not can_close and prct_changed >= .01:\n",
    "                can_close = True\n",
    "            if fast_mva <= upper and can_close:\n",
    "                long_pos = False\n",
    "                PnL *= (1+prct_changed) \n",
    "                upper_breached = False\n",
    "                can_close = False\n",
    "                trending_on = False\n",
    "            else:\n",
    "                if prct_changed >= pt*1.75:\n",
    "                    long_pos = False\n",
    "                    PnL *= (1+prct_changed) \n",
    "                    can_close = False\n",
    "                    trending_on = False\n",
    "                elif prct_changed <= sl*1.5:\n",
    "                    long_pos = False\n",
    "                    PnL *= (1+prct_changed) \n",
    "                    can_close = False\n",
    "                    trending_on = False\n",
    "        \n",
    "        # take off short sideways trade\n",
    "        elif sideways_on and short_pos:\n",
    "            prct_changed = (filled_price - current_price) / filled_price\n",
    "            if fast_mva <= slow_mva:\n",
    "                short_pos = False\n",
    "                PnL *= (1+prct_changed)\n",
    "                sideways_on = False\n",
    "            elif prct_changed >= pt:\n",
    "                short_pos = False\n",
    "                PnL *= (1+prct_changed)\n",
    "                sideways_on = False\n",
    "            elif prct_changed <= sl:\n",
    "                short_pos = False\n",
    "                PnL *= (1+prct_changed)\n",
    "                sideways_on = False\n",
    "\n",
    "        # take off long sideways trade\n",
    "        elif sideways_on and long_pos:\n",
    "            prct_changed = (fast_mva - current_price) / filled_price\n",
    "            if fast_mva >= slow_mva:\n",
    "                long_pos = False\n",
    "                PnL *= (1+prct_changed)\n",
    "                sideways_on = False\n",
    "            elif prct_changed >= pt:\n",
    "                long_pos = False\n",
    "                PnL *= (1+prct_changed)\n",
    "                sideways_on = False\n",
    "            elif prct_changed <= sl:\n",
    "                long_pos = False\n",
    "                PnL *= (1+prct_changed)\n",
    "                sideways_on = False\n",
    "  \n",
    "                \n",
    "        # reset bands breached flags if price within range\n",
    "        elif fast_mva > lower and fast_mva < upper and upper_breached+lower_breached:\n",
    "            lower_breached = False\n",
    "            upper_breached = False\n",
    "            \n",
    "        cumRet.append(PnL)\n",
    "    cumRet = pd.Series(cumRet, index=data.index)      \n",
    "    return cumRet, PROM(cumRet)+empyrical.max_drawdown(dailyRet_noncont(cumRet)), longs, shorts"
   ]
  },
  {
   "cell_type": "code",
   "execution_count": 8,
   "metadata": {},
   "outputs": [],
   "source": [
    "def wf_obj(trial, data):\n",
    "    slow = int(trial.suggest_discrete_uniform('slow', 5400, 6000, 50))\n",
    "    fast = int(trial.suggest_discrete_uniform('fast', 340, 410, 5))\n",
    "    mult = trial.suggest_discrete_uniform('mult', 2.15, 2.35, .02)\n",
    "    return mixed_strategy_WF(data.copy(), 1, slow, fast, mult)[1]"
   ]
  },
  {
   "cell_type": "code",
   "execution_count": 9,
   "metadata": {},
   "outputs": [],
   "source": [
    "# data should start two months before the first test period\n",
    "# might be best to start a test period in the middle of a month since each new month might have a new behavior\n",
    "# starting at the middle captures some of the behavior of a month\n",
    "# wf_df = df.loc['2019-05-15':]\n",
    "\n",
    "# this version of walk_forward function depends on the implementation of the objective function for the particular\n",
    "# problem at hands\n",
    "\n",
    "def walk_forward(data, objective, num_test_periods=12, num_trials=60):\n",
    "    optuna.logging.set_verbosity(optuna.logging.WARNING)\n",
    "    test_len = int(data.shape[0]/num_test_periods)\n",
    "    train_len = test_len * 2\n",
    "    cumRet = pd.Series(dtype='float64')\n",
    "    longs = 0\n",
    "    shorts = 0\n",
    "    for i in range(train_len, data.shape[0], test_len):\n",
    "        train_df = data.iloc[i-train_len:i, :]\n",
    "        test_df = data.iloc[i:i+test_len, :]\n",
    "        print('train: ', train_df.index[0], ' to ', train_df.index[-1], \n",
    "              '\\ntest: ', test_df.index[0], ' to ', test_df.index[-1])\n",
    "        \n",
    "        study = optuna.create_study(direction='maximize')\n",
    "        study.optimize(lambda trial: objective(trial, train_df.copy()), n_trials=num_trials)\n",
    "        \n",
    "        bp = study.best_params\n",
    "        print(bp, ' with best value: ', study.best_value, '\\n')\n",
    "        \n",
    "        slow = int(bp['slow'])\n",
    "        fast = int(bp['fast'])\n",
    "        mult = int(bp['mult'])\n",
    "        sc = 1 if len(cumRet) == 0 else cumRet[-1]\n",
    "        cr, pm, l, s = mixed_strategy_WF(test_df.copy(), sc, slow, fast, mult)\n",
    "        longs += l\n",
    "        shorts += s\n",
    "        cumRet = pd.concat([cumRet, cr])\n",
    "    return cumRet, longs, shorts"
   ]
  },
  {
   "cell_type": "code",
   "execution_count": 10,
   "metadata": {},
   "outputs": [],
   "source": [
    "def PROM2(cumRet):\n",
    "    trade_rets = (cumRet-cumRet.shift(1).fillna(1))\n",
    "    win_trades = trade_rets[trade_rets>0]\n",
    "    lose_trades = trade_rets[trade_rets<0]\n",
    "    adj_wins = len(win_trades) - np.sqrt(len(win_trades))\n",
    "    adj_losses = len(lose_trades) + np.sqrt(len(lose_trades))\n",
    "    avg_win = win_trades.mean()\n",
    "    avg_lose = lose_trades.mean()\n",
    "    return avg_win*adj_wins+avg_lose*adj_losses, win_trades, lose_trades"
   ]
  },
  {
   "cell_type": "code",
   "execution_count": 11,
   "metadata": {},
   "outputs": [],
   "source": [
    "def dailyRet_WF(cumRet):\n",
    "    cumRet = cumRet.resample('1T').mean()\n",
    "    cumRet.fillna(method='ffill', inplace=True)\n",
    "    return cumRet.resample('1D').apply(lambda x: x[-1]/x[0]-1)"
   ]
  },
  {
   "cell_type": "code",
   "execution_count": 12,
   "metadata": {
    "collapsed": true
   },
   "outputs": [
    {
     "name": "stdout",
     "output_type": "stream",
     "text": [
      "train:  2019-07-01 00:00:00+00:00  to  2019-08-31 20:17:00+00:00 \n",
      "test:  2019-08-31 20:18:00+00:00  to  2019-10-01 18:26:00+00:00\n"
     ]
    },
    {
     "name": "stderr",
     "output_type": "stream",
     "text": [
      "[W 2020-08-08 01:00:21,710] Trial 52 failed, because the objective function returned nan.\n",
      "[W 2020-08-08 01:00:21,943] Trial 53 failed, because the objective function returned nan.\n",
      "[W 2020-08-08 01:00:22,184] Trial 54 failed, because the objective function returned nan.\n",
      "[W 2020-08-08 01:00:22,518] Trial 55 failed, because the objective function returned nan.\n",
      "[W 2020-08-08 01:00:23,234] Trial 58 failed, because the objective function returned nan.\n",
      "[W 2020-08-08 01:00:23,565] Trial 59 failed, because the objective function returned nan.\n",
      "[W 2020-08-08 01:00:23,819] Trial 60 failed, because the objective function returned nan.\n",
      "[W 2020-08-08 01:00:24,062] Trial 61 failed, because the objective function returned nan.\n",
      "[W 2020-08-08 01:00:24,385] Trial 62 failed, because the objective function returned nan.\n",
      "[W 2020-08-08 01:00:24,647] Trial 63 failed, because the objective function returned nan.\n",
      "[W 2020-08-08 01:00:24,892] Trial 64 failed, because the objective function returned nan.\n",
      "[W 2020-08-08 01:00:25,232] Trial 65 failed, because the objective function returned nan.\n",
      "[W 2020-08-08 01:00:25,513] Trial 66 failed, because the objective function returned nan.\n",
      "[W 2020-08-08 01:00:25,781] Trial 67 failed, because the objective function returned nan.\n",
      "[W 2020-08-08 01:00:26,033] Trial 68 failed, because the objective function returned nan.\n",
      "[W 2020-08-08 01:00:26,347] Trial 69 failed, because the objective function returned nan.\n",
      "[W 2020-08-08 01:00:26,590] Trial 70 failed, because the objective function returned nan.\n",
      "[W 2020-08-08 01:00:26,842] Trial 71 failed, because the objective function returned nan.\n",
      "[W 2020-08-08 01:00:27,158] Trial 72 failed, because the objective function returned nan.\n",
      "[W 2020-08-08 01:00:27,410] Trial 73 failed, because the objective function returned nan.\n",
      "[W 2020-08-08 01:00:27,653] Trial 74 failed, because the objective function returned nan.\n"
     ]
    },
    {
     "name": "stdout",
     "output_type": "stream",
     "text": [
      "{'slow': 5500.0, 'fast': 345.0, 'mult': 2.17}  with best value:  0.15254599387875034 \n",
      "\n",
      "train:  2019-07-31 22:09:00+00:00  to  2019-10-01 18:26:00+00:00 \n",
      "test:  2019-10-01 18:27:00+00:00  to  2019-11-01 16:35:00+00:00\n",
      "{'slow': 5800.0, 'fast': 370.0, 'mult': 2.21}  with best value:  0.07340206363969465 \n",
      "\n",
      "train:  2019-08-31 20:18:00+00:00  to  2019-11-01 16:35:00+00:00 \n",
      "test:  2019-11-01 16:36:00+00:00  to  2019-12-02 14:44:00+00:00\n",
      "{'slow': 5950.0, 'fast': 345.0, 'mult': 2.19}  with best value:  -0.05987243250544751 \n",
      "\n",
      "train:  2019-10-01 18:27:00+00:00  to  2019-12-02 14:44:00+00:00 \n",
      "test:  2019-12-02 14:45:00+00:00  to  2020-01-02 12:53:00+00:00\n",
      "{'slow': 5400.0, 'fast': 370.0, 'mult': 2.35}  with best value:  -0.04743111257544751 \n",
      "\n",
      "train:  2019-11-01 16:36:00+00:00  to  2020-01-02 12:53:00+00:00 \n",
      "test:  2020-01-02 12:54:00+00:00  to  2020-02-02 11:02:00+00:00\n",
      "{'slow': 6000.0, 'fast': 370.0, 'mult': 2.25}  with best value:  -0.011067680614665194 \n",
      "\n",
      "train:  2019-12-02 14:45:00+00:00  to  2020-02-02 11:02:00+00:00 \n",
      "test:  2020-02-02 11:03:00+00:00  to  2020-03-04 09:11:00+00:00\n",
      "{'slow': 5750.0, 'fast': 355.0, 'mult': 2.31}  with best value:  0.027846437918386504 \n",
      "\n",
      "train:  2020-01-02 12:54:00+00:00  to  2020-03-04 09:11:00+00:00 \n",
      "test:  2020-03-04 09:12:00+00:00  to  2020-04-04 07:20:00+00:00\n",
      "{'slow': 6000.0, 'fast': 355.0, 'mult': 2.15}  with best value:  0.03474089740788789 \n",
      "\n",
      "train:  2020-02-02 11:03:00+00:00  to  2020-04-04 07:20:00+00:00 \n",
      "test:  2020-04-04 07:21:00+00:00  to  2020-05-05 05:29:00+00:00\n",
      "{'slow': 5950.0, 'fast': 355.0, 'mult': 2.29}  with best value:  -0.04049632915679298 \n",
      "\n",
      "train:  2020-03-04 09:12:00+00:00  to  2020-05-05 05:29:00+00:00 \n",
      "test:  2020-05-05 05:30:00+00:00  to  2020-06-05 03:38:00+00:00\n",
      "{'slow': 5500.0, 'fast': 350.0, 'mult': 2.35}  with best value:  0.11207885838962307 \n",
      "\n",
      "train:  2020-04-04 07:21:00+00:00  to  2020-06-05 03:38:00+00:00 \n",
      "test:  2020-06-05 03:39:00+00:00  to  2020-07-06 01:47:00+00:00\n",
      "{'slow': 5950.0, 'fast': 355.0, 'mult': 2.19}  with best value:  0.07462855914604113 \n",
      "\n",
      "train:  2020-05-05 05:30:00+00:00  to  2020-07-06 01:47:00+00:00 \n",
      "test:  2020-07-06 01:48:00+00:00  to  2020-08-05 23:56:00+00:00\n",
      "{'slow': 5850.0, 'fast': 370.0, 'mult': 2.17}  with best value:  -0.017470660831473278 \n",
      "\n",
      "train:  2020-06-05 03:39:00+00:00  to  2020-08-05 23:56:00+00:00 \n",
      "test:  2020-08-05 23:57:00+00:00  to  2020-08-06 00:00:00+00:00\n",
      "{'slow': 5950.0, 'fast': 380.0, 'mult': 2.23}  with best value:  0.03681202685501094 \n",
      "\n"
     ]
    },
    {
     "name": "stderr",
     "output_type": "stream",
     "text": [
      "<ipython-input-7-6cf2bcd88aaf>:143: DeprecationWarning: The default dtype for empty Series will be 'object' instead of 'float64' in a future version. Specify a dtype explicitly to silence this warning.\n",
      "  cumRet = pd.Series(cumRet, index=data.index)\n"
     ]
    }
   ],
   "source": [
    "cumRet, longs, shorts = walk_forward(df.loc['2019-07-01':].copy(), wf_obj, 13, 80)"
   ]
  },
  {
   "cell_type": "code",
   "execution_count": 13,
   "metadata": {},
   "outputs": [
    {
     "data": {
      "text/plain": [
       "<matplotlib.axes._subplots.AxesSubplot at 0x1281fb0c7c0>"
      ]
     },
     "execution_count": 13,
     "metadata": {},
     "output_type": "execute_result"
    },
    {
     "data": {
      "image/png": "[encoded data removed]",
      "text/plain": [
       "<Figure size 432x288 with 1 Axes>"
      ]
     },
     "metadata": {
      "needs_background": "light"
     },
     "output_type": "display_data"
    }
   ],
   "source": [
    "cumRet.plot()"
   ]
  },
  {
   "cell_type": "code",
   "execution_count": 16,
   "metadata": {},
   "outputs": [],
   "source": [
    "prom, wins, losses = PROM2(cumRet)"
   ]
  },
  {
   "cell_type": "code",
   "execution_count": 19,
   "metadata": {},
   "outputs": [
    {
     "name": "stdout",
     "output_type": "stream",
     "text": [
      "Pessimistic Return on Margin:  0.18339347418391894\n",
      "PROM to Return:  0.3594209287345426\n",
      "# wins:  45\n",
      "# losses:  34\n",
      "# longs:  37\n",
      "# shorts:  42\n",
      "max drawdown:  -0.12801998257854869\n"
     ]
    }
   ],
   "source": [
    "print('Pessimistic Return on Margin: ', prom)\n",
    "print('PROM to Return: ', prom/(cumRet[-1]-1))\n",
    "print('# wins: ', wins.shape[0])\n",
    "print('# losses: ', losses.shape[0])\n",
    "print('# longs: ', longs)\n",
    "print('# shorts: ', shorts)\n",
    "print('max drawdown: ', empyrical.max_drawdown(dailyRet_WF(cumRet)))"
   ]
  }
 ],
 "metadata": {
  "kernelspec": {
   "display_name": "Python 3",
   "language": "python",
   "name": "python3"
  },
  "language_info": {
   "codemirror_mode": {
    "name": "ipython",
    "version": 3
   },
   "file_extension": ".py",
   "mimetype": "text/x-python",
   "name": "python",
   "nbconvert_exporter": "python",
   "pygments_lexer": "ipython3",
   "version": "3.5.6"
  }
 },
 "nbformat": 4,
 "nbformat_minor": 4
}
