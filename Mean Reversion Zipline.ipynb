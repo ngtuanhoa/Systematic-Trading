{
 "cells": [
  {
   "cell_type": "markdown",
   "metadata": {},
   "source": [
    "#### About this repository:\n",
    "\n",
    "The notebooks in this repository are meant to serve as comprehensive building blocks for establishing an algorithmic trading system. \n",
    " \n",
    "A number of sample trading strategies are included, along with methodologies to determine their robustness. Walk-Forward Analysis is one such well known technique, while Combinatorial Purged Cross Validation is a newer and more  rigorous methodology. Another useful and important concept is Meta Labelling, which predicts the probability of individual winning trades. All three techniques are utilized here to help improve the rigor of the systematic trading research process. \n",
    "\n",
    "Even though the methodologies presented in these notebooks can always be fine-tuned further, they are sophisticated enough to provide rigorous backtesting of any algorithmic trading strategy. After looking through this repository, one should gain an understanding of how algorithmic trading startegies are programmed and backtested. Identifying such strategies can simply be a matter of adapting algorithms found in research journals or trading websites; the aim of these notebooks is to determine a strategy's profitability and robustness. The final step of live trading a strategy should be merely trivial rewriting of a few lines of code in the Zipline version of the strategy. \n",
    "\n",
    "\n",
    "*Hoa Tuan Nguyen:* http://linkedin.com/in/hoatuannguyen/"
   ]
  },
  {
   "cell_type": "markdown",
   "metadata": {},
   "source": [
    "## Mean Reversion with Bollinger Bands  Strategy\n",
    "\n",
    "This strategy was created to capture the type of largely sideways market we had in April and June 2020 for BTC. It uses Bollinger-bands indicators. \n",
    "\n",
    "The slow moving average will be optimized over a period of a few days, the fast moving average over the last couple of hours. The upper and lower bands are slow mva + - multiplier * slow std.\n",
    "\n",
    "When the fast mva price breaches either the upper or lower band, the upper or lower-breached flag is switched on. When this fast mva comes back within the bands, we put on the corresponding short or long trade.\n",
    "\n",
    "We take profit when the fast mva reaches the slow mva or if the unrealized profit is 4% or higher. We stop our losses when the unrealized loss surpasses 1.5%. These two parameters can also be optimized to a certain extent.\n",
    "\n",
    "A couple data points are kept track of to help make sure the algorithm works as expected."
   ]
  },
  {
   "cell_type": "code",
   "execution_count": 1,
   "metadata": {},
   "outputs": [],
   "source": [
    "%load_ext zipline"
   ]
  },
  {
   "cell_type": "code",
   "execution_count": 2,
   "metadata": {},
   "outputs": [],
   "source": [
    "import pandas as pd\n",
    "import numpy as np\n",
    "import matplotlib.pyplot as plt\n",
    "import seaborn as sns\n",
    "sns.set()\n",
    "\n",
    "from collections import OrderedDict\n",
    "from datetime import datetime, timedelta\n",
    "import pytz\n",
    "\n",
    "import zipline\n",
    "from zipline.api import *\n",
    "from zipline.utils.always_open import AlwaysOpenCalendar\n",
    "\n",
    "import pyfolio as pf\n",
    "import empyrical"
   ]
  },
  {
   "cell_type": "code",
   "execution_count": 3,
   "metadata": {},
   "outputs": [],
   "source": [
    "data = OrderedDict()\n",
    "data['BTC'] = pd.read_csv(\"data/btc_2019_aug6_2020.csv\",index_col=0,parse_dates=True)\n",
    "\n",
    "# Zipline only allows trading of whole number of any particular security.\n",
    "# However, BTC is traded on exchanges in tiny fractions of a single Bitcoin. \n",
    "# To allow for realistic backtesting with Zipline, we rescaled the price and volume of BTC\n",
    "muliplier = 100\n",
    "data['BTC'].loc[:,'open':'close'] /= muliplier\n",
    "data['BTC'].volume *= muliplier\n",
    "\n",
    "panel = pd.Panel(data)\n",
    "panel.minor_axis = [\"open\",\"high\",\"low\",\"close\",\"volume\"]\n",
    "panel.major_axis = panel.major_axis.tz_localize(pytz.utc)"
   ]
  },
  {
   "cell_type": "code",
   "execution_count": 7,
   "metadata": {},
   "outputs": [],
   "source": [
    "def initialize(context):    \n",
    "    set_benchmark(symbol('BTC'))\n",
    "    context.security = symbol('BTC')\n",
    "    \n",
    "    context.lower_breached = False\n",
    "    context.upper_breached = False\n",
    "    \n",
    "    context.times_breaches = 0\n",
    "    context.take_profit = 0\n",
    "    context.stopped_out = 0\n",
    "    context.orders_cancelled = 0\n",
    "    context.pos_ret = 0\n",
    "    context.neg_ret = 0\n",
    "    \n",
    "    context.long_window = 4080\n",
    "    context.short_window = 330\n",
    "    context.std_multiplier = 1.3\n",
    "    context.pt = .04\n",
    "    context.sl = -.012\n",
    "\n",
    "def handle_data(context, data):\n",
    "    \n",
    "    price_history = data.history(\n",
    "        context.security,\n",
    "        fields='close',\n",
    "        bar_count=context.long_window,\n",
    "        frequency='1m'\n",
    "    )\n",
    "    current_price = price_history[-1]\n",
    "    fast_mva = price_history[-context.short_window:].mean()\n",
    "    \n",
    "    slow_mva = price_history.mean()\n",
    "    std_price = price_history.std()\n",
    "    upper = slow_mva + context.std_multiplier*std_price\n",
    "    lower = slow_mva - context.std_multiplier*std_price\n",
    "    \n",
    "    pos_amount = context.portfolio.positions[context.security].amount\n",
    "    btc_orders = get_open_orders(context.security)\n",
    "    open_orders = False if len(btc_orders)==0 else btc_orders[0].status==0\n",
    "    filled_price = context.portfolio.positions[context.security].cost_basis\n",
    "   \n",
    "    # put on short trades\n",
    "    if fast_mva > upper and not context.upper_breached:\n",
    "        context.upper_breached = True\n",
    "        context.times_breaches += 1\n",
    "    elif not open_orders and not pos_amount and context.upper_breached and fast_mva <= upper:\n",
    "        order_target_percent(context.security, -1, limit_price=fast_mva * .995)\n",
    "        context.upper_breached = False\n",
    "    \n",
    "    # put on long trades\n",
    "    elif fast_mva < lower and not context.lower_breached:\n",
    "        context.lower_breached = True \n",
    "        context.times_breaches += 1\n",
    "    elif not open_orders and not pos_amount and context.lower_breached and fast_mva >=lower:\n",
    "        order_target_percent(context.security, 1, limit_price=fast_mva * 1.005)\n",
    "        context.lower_breached = False \n",
    "    \n",
    "    elif open_orders and btc_orders[0].status == 0 and get_datetime() - btc_orders[0].created >= timedelta(minutes=30):\n",
    "        cancel_order(btc_orders[0])\n",
    "        context.orders_cancelled += 1\n",
    "    \n",
    "    # take profits or stop loss for short trades\n",
    "    elif not open_orders and pos_amount<0:\n",
    "        prct_changed = (filled_price-current_price)/filled_price\n",
    "        if fast_mva <= slow_mva:\n",
    "            order_target_percent(context.security, 0)\n",
    "            if prct_changed > 0:\n",
    "                context.pos_ret += 1\n",
    "            else:\n",
    "                context.neg_ret += 1\n",
    "        else:\n",
    "            if prct_changed >= context.pt:\n",
    "                order_target_percent(context.security, 0)\n",
    "                context.take_profit += 1\n",
    "                context.pos_ret += 1\n",
    "            elif prct_changed <= context.sl:\n",
    "                order_target_percent(context.security, 0)\n",
    "                context.stopped_out += 1\n",
    "                context.neg_ret += 1\n",
    "    \n",
    "    # take profits or stop loss for long trades\n",
    "    elif not open_orders and pos_amount>0:\n",
    "        prct_changed = (current_price-filled_price)/filled_price\n",
    "        if fast_mva >= slow_mva:\n",
    "            order_target_percent(context.security, 0)\n",
    "            if prct_changed >= 0.01:\n",
    "                context.take_profit += 1\n",
    "        else:\n",
    "            if prct_changed >= context.pt:\n",
    "                order_target_percent(context.security, 0)\n",
    "                context.take_profit += 1\n",
    "                context.pos_ret += 1\n",
    "            elif prct_changed <= context.sl:\n",
    "                order_target_percent(context.security, 0)\n",
    "                context.stopped_out += 1\n",
    "                context.neg_ret += 1\n",
    "        \n",
    "    # reset bands breached flags if price within range\n",
    "    elif fast_mva > lower and fast_mva < upper and context.upper_breached+context.lower_breached:\n",
    "        context.lower_breached = False\n",
    "        context.upper_breached = False\n",
    "        \n",
    "    record(times_breached = context.times_breaches, stopped_out = context.stopped_out, \n",
    "           take_profits = context.take_profit, cancelled = context.orders_cancelled, \n",
    "           pos_ret = context.pos_ret, neg_ret = context.neg_ret)"
   ]
  },
  {
   "cell_type": "code",
   "execution_count": 8,
   "metadata": {},
   "outputs": [],
   "source": [
    "perf = zipline.run_algorithm(start=datetime(2019, 6, 1, 0, 0, 0, 0, pytz.utc),\n",
    "                      end=datetime(2019, 7, 31, 0, 0, 0, 0, pytz.utc),\n",
    "                      initialize=initialize,\n",
    "                      handle_data=handle_data,\n",
    "                      trading_calendar=AlwaysOpenCalendar(),\n",
    "                      capital_base=20000,\n",
    "                      data_frequency ='minute',\n",
    "                      data=panel)"
   ]
  },
  {
   "cell_type": "code",
   "execution_count": 9,
   "metadata": {},
   "outputs": [
    {
     "data": {
      "text/plain": [
       "<matplotlib.axes._subplots.AxesSubplot at 0x1a1e19ceb8>"
      ]
     },
     "execution_count": 9,
     "metadata": {},
     "output_type": "execute_result"
    },
    {
     "data": {
      "image/png": "[encoded data removed]",
      "text/plain": [
       "<Figure size 432x288 with 1 Axes>"
      ]
     },
     "metadata": {
      "needs_background": "light"
     },
     "output_type": "display_data"
    }
   ],
   "source": [
    "# with slow=4080, fast=330, mult=1.3\n",
    "perf.algorithm_period_return.plot()"
   ]
  },
  {
   "cell_type": "code",
   "execution_count": 7,
   "metadata": {},
   "outputs": [
    {
     "data": {
      "text/plain": [
       "<matplotlib.axes._subplots.AxesSubplot at 0x1a23d0a940>"
      ]
     },
     "execution_count": 7,
     "metadata": {},
     "output_type": "execute_result"
    },
    {
     "data": {
      "image/png": "[encoded data removed]",
      "text/plain": [
       "<Figure size 432x288 with 1 Axes>"
      ]
     },
     "metadata": {
      "needs_background": "light"
     },
     "output_type": "display_data"
    }
   ],
   "source": [
    "# with slow=2520, fast=240, mult=2\n",
    "perf.algorithm_period_return.plot()"
   ]
  }
 ],
 "metadata": {
  "kernelspec": {
   "display_name": "Python 3",
   "language": "python",
   "name": "python3"
  },
  "language_info": {
   "codemirror_mode": {
    "name": "ipython",
    "version": 3
   },
   "file_extension": ".py",
   "mimetype": "text/x-python",
   "name": "python",
   "nbconvert_exporter": "python",
   "pygments_lexer": "ipython3",
   "version": "3.5.6"
  }
 },
 "nbformat": 4,
 "nbformat_minor": 4
}
