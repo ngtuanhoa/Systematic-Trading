{
 "cells": [
  {
   "cell_type": "markdown",
   "metadata": {},
   "source": [
    "#### About this repository:\n",
    "\n",
    "The notebooks in this repository are meant to serve as comprehensive building blocks for establishing an algorithmic trading system. \n",
    " \n",
    "A number of sample trading strategies are included, along with methodologies to determine their robustness. Walk-Forward Analysis is one such well known technique, while Combinatorial Purged Cross Validation is a newer and more  rigorous methodology. Another useful and important concept is Meta Labelling, which predicts the probability of individual winning trades. All three techniques are utilized here to help improve the rigor of the systematic trading research process. \n",
    "\n",
    "Even though the methodologies presented in these notebooks can always be fine-tuned further, they are sophisticated enough to provide rigorous backtesting of any algorithmic trading strategy. After looking through this repository, one should gain an understanding of how algorithmic trading startegies are programmed and backtested. Identifying such strategies can simply be a matter of adapting algorithms found in research journals or trading websites; the aim of these notebooks is to determine a strategy's profitability and robustness. The final step of live trading a strategy should be merely trivial rewriting of a few lines of code in the Zipline version of the strategy. \n",
    "\n",
    "\n",
    "*Hoa Tuan Nguyen:* http://linkedin.com/in/hoatuannguyen/"
   ]
  },
  {
   "cell_type": "markdown",
   "metadata": {},
   "source": [
    "## Mean Reversion with Bollinger Bands  Strategy\n",
    "\n",
    "This strategy was created to capture the type of largely sideways market we had in April and June 2020 for BTC. It uses Bollinger-bands indicators. \n",
    "\n",
    "The slow moving average will be optimized over a period of a few days, the fast moving average over the last couple of hours. The upper and lower bands are slow mva + - multiplier * slow std.\n",
    "\n",
    "When the fast mva price breaches either the upper or lower band, the upper or lower-breached flag is switched on. When this fast mva comes back within the bands, we put on the corresponding short or long trade.\n",
    "\n",
    "We take profit when the fast mva reaches the slow mva or if the unrealized profit is 4% or higher. We stop our losses when the unrealized loss surpasses 1.5%. These two parameters can also be optimized to a certain extent.\n",
    "\n",
    "A couple data points are kept track of to help make sure the algorithm works as expected."
   ]
  },
  {
   "cell_type": "code",
   "execution_count": 1,
   "metadata": {},
   "outputs": [],
   "source": [
    "import pandas as pd\n",
    "import numpy as np\n",
    "import matplotlib.pyplot as plt\n",
    "import seaborn as sns\n",
    "sns.set()\n",
    "sns.set_style('ticks')\n",
    "%matplotlib inline\n",
    "\n",
    "import optuna\n",
    "import empyrical"
   ]
  },
  {
   "cell_type": "code",
   "execution_count": 2,
   "metadata": {},
   "outputs": [],
   "source": [
    "df = pd.read_csv('data/btc_2019_aug6_2020.csv', index_col=0, parse_dates=True)"
   ]
  },
  {
   "cell_type": "code",
   "execution_count": 3,
   "metadata": {},
   "outputs": [
    {
     "data": {
      "text/html": [
       "<div>\n",
       "<style scoped>\n",
       "    .dataframe tbody tr th:only-of-type {\n",
       "        vertical-align: middle;\n",
       "    }\n",
       "\n",
       "    .dataframe tbody tr th {\n",
       "        vertical-align: top;\n",
       "    }\n",
       "\n",
       "    .dataframe thead th {\n",
       "        text-align: right;\n",
       "    }\n",
       "</style>\n",
       "<table border=\"1\" class=\"dataframe\">\n",
       "  <thead>\n",
       "    <tr style=\"text-align: right;\">\n",
       "      <th></th>\n",
       "      <th>close</th>\n",
       "      <th>high</th>\n",
       "      <th>low</th>\n",
       "      <th>open</th>\n",
       "      <th>volume</th>\n",
       "    </tr>\n",
       "  </thead>\n",
       "  <tbody>\n",
       "    <tr>\n",
       "      <th>2019-01-01 00:00:00+00:00</th>\n",
       "      <td>3694.5</td>\n",
       "      <td>3694.5</td>\n",
       "      <td>3693.0</td>\n",
       "      <td>3693.0</td>\n",
       "      <td>241.351087</td>\n",
       "    </tr>\n",
       "    <tr>\n",
       "      <th>2019-01-01 00:01:00+00:00</th>\n",
       "      <td>3690.5</td>\n",
       "      <td>3694.5</td>\n",
       "      <td>3690.5</td>\n",
       "      <td>3694.5</td>\n",
       "      <td>178.451678</td>\n",
       "    </tr>\n",
       "    <tr>\n",
       "      <th>2019-01-01 00:02:00+00:00</th>\n",
       "      <td>3690.5</td>\n",
       "      <td>3691.0</td>\n",
       "      <td>3690.5</td>\n",
       "      <td>3690.5</td>\n",
       "      <td>53.144116</td>\n",
       "    </tr>\n",
       "    <tr>\n",
       "      <th>2019-01-01 00:03:00+00:00</th>\n",
       "      <td>3690.0</td>\n",
       "      <td>3691.0</td>\n",
       "      <td>3690.0</td>\n",
       "      <td>3690.5</td>\n",
       "      <td>71.344447</td>\n",
       "    </tr>\n",
       "    <tr>\n",
       "      <th>2019-01-01 00:04:00+00:00</th>\n",
       "      <td>3688.5</td>\n",
       "      <td>3690.5</td>\n",
       "      <td>3688.5</td>\n",
       "      <td>3690.5</td>\n",
       "      <td>194.159810</td>\n",
       "    </tr>\n",
       "  </tbody>\n",
       "</table>\n",
       "</div>"
      ],
      "text/plain": [
       "                            close    high     low    open      volume\n",
       "2019-01-01 00:00:00+00:00  3694.5  3694.5  3693.0  3693.0  241.351087\n",
       "2019-01-01 00:01:00+00:00  3690.5  3694.5  3690.5  3694.5  178.451678\n",
       "2019-01-01 00:02:00+00:00  3690.5  3691.0  3690.5  3690.5   53.144116\n",
       "2019-01-01 00:03:00+00:00  3690.0  3691.0  3690.0  3690.5   71.344447\n",
       "2019-01-01 00:04:00+00:00  3688.5  3690.5  3688.5  3690.5  194.159810"
      ]
     },
     "execution_count": 3,
     "metadata": {},
     "output_type": "execute_result"
    }
   ],
   "source": [
    "df.head()"
   ]
  },
  {
   "cell_type": "code",
   "execution_count": 4,
   "metadata": {},
   "outputs": [],
   "source": [
    "sma_short = df.close.rolling(180).mean()\n",
    "sma_long = df.close.rolling(1440).mean()\n",
    "std_long = df.close.rolling(1440).std()"
   ]
  },
  {
   "cell_type": "code",
   "execution_count": 5,
   "metadata": {},
   "outputs": [
    {
     "data": {
      "text/plain": [
       "<matplotlib.axes._subplots.AxesSubplot at 0x1a23c66410>"
      ]
     },
     "execution_count": 5,
     "metadata": {},
     "output_type": "execute_result"
    },
    {
     "data": {
      "image/png": "[encoded data removed]",
      "text/plain": [
       "<Figure size 1728x864 with 1 Axes>"
      ]
     },
     "metadata": {
      "needs_background": "light"
     },
     "output_type": "display_data"
    }
   ],
   "source": [
    "sma_short.loc['2020-06-01':].plot(figsize=(24,12))\n",
    "sma_long.loc['2020-06-01':].plot()\n",
    "(sma_long+2*std_long).loc['2020-06-01':].plot()\n",
    "(sma_long-2*std_long).loc['2020-06-01':].plot()"
   ]
  },
  {
   "cell_type": "code",
   "execution_count": 6,
   "metadata": {},
   "outputs": [],
   "source": [
    "# helper function to calculate Pessimistic Return on Margin from a cumulative return pandas series\n",
    "\n",
    "def PROM(cumRet):\n",
    "    trade_rets = cumRet-cumRet.shift(1).fillna(1)\n",
    "    win_trades = trade_rets[trade_rets>0]\n",
    "    lose_trades = trade_rets[trade_rets<0]\n",
    "    adj_wins = len(win_trades) - np.sqrt(len(win_trades))\n",
    "    adj_losses = len(lose_trades) + np.sqrt(len(lose_trades))\n",
    "    avg_win = win_trades.mean()\n",
    "    avg_lose = lose_trades.mean()\n",
    "    return avg_win*adj_wins+avg_lose*adj_losses"
   ]
  },
  {
   "cell_type": "code",
   "execution_count": 7,
   "metadata": {},
   "outputs": [],
   "source": [
    "# helper function that returns daily returns for non-continuous cummulative returns\n",
    "\n",
    "def dailyRet_noncont(cumRet):\n",
    "    cumRet = cumRet.resample('1T').mean().fillna(method='ffill')\n",
    "    return (cumRet.resample('1D').last()/cumRet.resample('1D').last().shift(1)-1).dropna()"
   ]
  },
  {
   "cell_type": "code",
   "execution_count": 19,
   "metadata": {},
   "outputs": [],
   "source": [
    "# Mean Reversion w/ Bollinger Bands strategy function\n",
    "\n",
    "def mean_reversion_strategy(data, s, f, m, p_t=.04, s_l=-.012):\n",
    "    lower_breached = False\n",
    "    upper_breached = False\n",
    "    long_pos = False\n",
    "    short_pos = False\n",
    "    \n",
    "    times_breaches = 0 # information to help debug \n",
    "    take_profit = 0    # help debug\n",
    "    stopped_out = 0    # help debug\n",
    "    pos_ret = 0   # help debug\n",
    "    neg_ret = 0   # help debug\n",
    "    filled_price = 0\n",
    "    PnL = 1\n",
    "    cumRet = []\n",
    "\n",
    "    slow = s # parameter to optimize\n",
    "    fast = f # parameter to optimize\n",
    "    mult_std = m # parameter to optimize\n",
    "    pt = p_t # can optimize if so choose\n",
    "    sl = s_l # can optimize if so choose\n",
    "    \n",
    "    data['sma_long'] = data.close.shift(1).rolling(slow).mean()\n",
    "    data['std_long'] = data.close.shift(1).rolling(slow).std()\n",
    "    data['sma_short'] = data.close.shift(1).rolling(fast).mean()\n",
    "    data['upper'] = data['sma_long'] + mult_std*data['std_long']\n",
    "    data['lower'] = data['sma_long'] - mult_std*data['std_long']\n",
    "    data.dropna(inplace=True)\n",
    "\n",
    "    for row in data.itertuples():\n",
    "        current_price = row.close\n",
    "        upper = row.upper\n",
    "        lower = row.lower\n",
    "        slow_mva = row.sma_long\n",
    "        fast_mva = row.sma_short\n",
    "        has_pos = long_pos + short_pos\n",
    "        \n",
    "        # put on short trades\n",
    "        if fast_mva > upper and not upper_breached:\n",
    "            upper_breached = True\n",
    "            times_breaches += 1\n",
    "        elif not has_pos and upper_breached and fast_mva <= upper and current_price >= fast_mva*.995:\n",
    "            filled_price = current_price\n",
    "            short_pos = True\n",
    "            upper_breached = False\n",
    "\n",
    "        # put on long trades\n",
    "        elif fast_mva < lower and not lower_breached:\n",
    "            lower_breached = True \n",
    "            times_breaches += 1\n",
    "        elif not has_pos and lower_breached and fast_mva >= lower and current_price <= fast_mva*1.005:\n",
    "            filled_price = current_price\n",
    "            long_pos = True\n",
    "            lower_breached = False \n",
    "\n",
    "        # take profits or stop loss for short trades\n",
    "        elif short_pos:\n",
    "            prct_changed = (filled_price-current_price)/filled_price\n",
    "            if fast_mva <= slow_mva:\n",
    "                short_pos = False\n",
    "                filled_price = 0\n",
    "                PnL *= (1+prct_changed)    # record realized PnL\n",
    "                if prct_changed > 0:\n",
    "                    pos_ret += 1\n",
    "                else:\n",
    "                    neg_ret += 1\n",
    "            else:\n",
    "                if prct_changed >= pt: #.04:\n",
    "                    short_pos = False\n",
    "                    filled_price = 0\n",
    "                    PnL *= (1+prct_changed)\n",
    "                    take_profit += 1\n",
    "                    pos_ret += 1\n",
    "                elif prct_changed <= sl: #-.012:\n",
    "                    short_pos = False\n",
    "                    filled_price = 0\n",
    "                    PnL *= (1+prct_changed)\n",
    "                    stopped_out += 1\n",
    "                    neg_ret += 1\n",
    "\n",
    "        # take profits or stop loss for long trades\n",
    "        elif long_pos:\n",
    "            prct_changed = (current_price-filled_price)/filled_price\n",
    "            if fast_mva >= slow_mva:\n",
    "                long_pos = False\n",
    "                filled_price = 0\n",
    "                PnL *= (1+prct_changed)\n",
    "                if prct_changed > 0:\n",
    "                    pos_ret += 1\n",
    "                else:\n",
    "                    neg_ret += 1\n",
    "            else:\n",
    "                if prct_changed >= pt: #.04:\n",
    "                    long_pos = False\n",
    "                    filled_price = 0\n",
    "                    PnL *= (1+prct_changed)\n",
    "                    take_profit += 1\n",
    "                    pos_ret += 1\n",
    "                elif prct_changed <= sl: #-.012:\n",
    "                    long_pos = False\n",
    "                    filled_price = 0\n",
    "                    PnL *= (1+prct_changed)\n",
    "                    stopped_out += 1\n",
    "                    neg_ret += 1\n",
    "        \n",
    "        # reset bands breached flags if price within range\n",
    "        elif fast_mva > lower and fast_mva < upper and upper_breached+lower_breached:\n",
    "            lower_breached = False\n",
    "            upper_breached = False\n",
    "        \n",
    "        cumRet.append(PnL)\n",
    "    \n",
    "    cumRet = pd.Series(cumRet, index=data.index) \n",
    "    print('take profits:',take_profit, '\\nstopped out:', stopped_out, '\\ntime breaches:', times_breaches,\n",
    "         '\\npos_ret:', pos_ret, '\\nneg_ret:', neg_ret)        \n",
    "    \n",
    "    # return cummulative returns and sum of Pessimistic Return on Margin and Maximum Drawdown\n",
    "    return cumRet, PROM(cumRet)+empyrical.max_drawdown(dailyRet_noncont(cumRet))"
   ]
  },
  {
   "cell_type": "code",
   "execution_count": 9,
   "metadata": {},
   "outputs": [
    {
     "name": "stdout",
     "output_type": "stream",
     "text": [
      "take profits: 34 \n",
      "stopped out: 97 \n",
      "time breaches: 1116 \n",
      "pos_ret: 221 \n",
      "neg_ret: 325\n"
     ]
    }
   ],
   "source": [
    "# just running the strategy with some random parameters' values\n",
    "\n",
    "cumRet, pmdd = mean_reversion_strategy(df.copy(), 240, 1440, 1.8)"
   ]
  },
  {
   "cell_type": "code",
   "execution_count": 10,
   "metadata": {},
   "outputs": [
    {
     "data": {
      "text/plain": [
       "<matplotlib.axes._subplots.AxesSubplot at 0x1a2fa0b090>"
      ]
     },
     "execution_count": 10,
     "metadata": {},
     "output_type": "execute_result"
    },
    {
     "data": {
      "image/png": "[encoded data removed]",
      "text/plain": [
       "<Figure size 432x288 with 1 Axes>"
      ]
     },
     "metadata": {
      "needs_background": "light"
     },
     "output_type": "display_data"
    }
   ],
   "source": [
    "cumRet.plot()"
   ]
  },
  {
   "cell_type": "code",
   "execution_count": 11,
   "metadata": {},
   "outputs": [
    {
     "data": {
      "text/plain": [
       "-0.3026960934879257"
      ]
     },
     "execution_count": 11,
     "metadata": {},
     "output_type": "execute_result"
    }
   ],
   "source": [
    "pmdd"
   ]
  },
  {
   "cell_type": "code",
   "execution_count": 26,
   "metadata": {},
   "outputs": [],
   "source": [
    "# maximize sum of Pessimistic Return on Margin and Maximum Drawdown\n",
    "\n",
    "def objective(trial):\n",
    "    slow = int(trial.suggest_discrete_uniform('slow', 1440, 4320, 240))\n",
    "    fast = int(trial.suggest_discrete_uniform('fast', 60, 360, 15))\n",
    "    mult = trial.suggest_discrete_uniform('mult', 1.3, 2.3, .1)\n",
    "    return mean_reversion_strategy(df.loc['2019-02-15':'2019-08-15'].copy(), slow, fast, mult)[1]"
   ]
  },
  {
   "cell_type": "code",
   "execution_count": 27,
   "metadata": {},
   "outputs": [],
   "source": [
    "study = optuna.create_study(direction='maximize')"
   ]
  },
  {
   "cell_type": "code",
   "execution_count": 28,
   "metadata": {},
   "outputs": [
    {
     "name": "stdout",
     "output_type": "stream",
     "text": [
      "take profits: 6 \n",
      "stopped out: 52 \n",
      "time breaches: 119 \n",
      "pos_ret: 25 \n",
      "neg_ret: 52\n"
     ]
    },
    {
     "name": "stderr",
     "output_type": "stream",
     "text": [
      "[I 2020-08-08 21:16:28,740] Finished trial#0 with value: -0.632457119116729 with parameters: {'slow': 2880.0, 'fast': 120.0, 'mult': 1.9000000000000001}. Best is trial#0 with value: -0.632457119116729.\n"
     ]
    },
    {
     "name": "stdout",
     "output_type": "stream",
     "text": [
      "take profits: 5 \n",
      "stopped out: 32 \n",
      "time breaches: 84 \n",
      "pos_ret: 19 \n",
      "neg_ret: 33\n"
     ]
    },
    {
     "name": "stderr",
     "output_type": "stream",
     "text": [
      "[I 2020-08-08 21:16:29,933] Finished trial#1 with value: -0.35631300357243334 with parameters: {'slow': 2880.0, 'fast': 360.0, 'mult': 1.6}. Best is trial#1 with value: -0.35631300357243334.\n"
     ]
    },
    {
     "name": "stdout",
     "output_type": "stream",
     "text": [
      "take profits: 5 \n",
      "stopped out: 55 \n",
      "time breaches: 110 \n",
      "pos_ret: 35 \n",
      "neg_ret: 57\n"
     ]
    },
    {
     "name": "stderr",
     "output_type": "stream",
     "text": [
      "[I 2020-08-08 21:16:31,075] Finished trial#2 with value: -0.7000211789322408 with parameters: {'slow': 1440.0, 'fast': 150.0, 'mult': 2.1}. Best is trial#1 with value: -0.35631300357243334.\n"
     ]
    },
    {
     "name": "stdout",
     "output_type": "stream",
     "text": [
      "take profits: 3 \n",
      "stopped out: 47 \n",
      "time breaches: 88 \n",
      "pos_ret: 25 \n",
      "neg_ret: 49\n"
     ]
    },
    {
     "name": "stderr",
     "output_type": "stream",
     "text": [
      "[I 2020-08-08 21:16:32,303] Finished trial#3 with value: -0.6446146352449905 with parameters: {'slow': 1680.0, 'fast': 165.0, 'mult': 2.2}. Best is trial#1 with value: -0.35631300357243334.\n"
     ]
    },
    {
     "name": "stdout",
     "output_type": "stream",
     "text": [
      "take profits: 3 \n",
      "stopped out: 40 \n",
      "time breaches: 72 \n",
      "pos_ret: 12 \n",
      "neg_ret: 40\n"
     ]
    },
    {
     "name": "stderr",
     "output_type": "stream",
     "text": [
      "[I 2020-08-08 21:16:33,451] Finished trial#4 with value: -0.6569316820393081 with parameters: {'slow': 3360.0, 'fast': 195.0, 'mult': 2.1}. Best is trial#1 with value: -0.35631300357243334.\n"
     ]
    },
    {
     "name": "stdout",
     "output_type": "stream",
     "text": [
      "take profits: 7 \n",
      "stopped out: 59 \n",
      "time breaches: 140 \n",
      "pos_ret: 26 \n",
      "neg_ret: 59\n"
     ]
    },
    {
     "name": "stderr",
     "output_type": "stream",
     "text": [
      "[I 2020-08-08 21:16:34,643] Finished trial#5 with value: -0.6409722676756522 with parameters: {'slow': 3840.0, 'fast': 75.0, 'mult': 2.0}. Best is trial#1 with value: -0.35631300357243334.\n"
     ]
    },
    {
     "name": "stdout",
     "output_type": "stream",
     "text": [
      "take profits: 4 \n",
      "stopped out: 42 \n",
      "time breaches: 114 \n",
      "pos_ret: 24 \n",
      "neg_ret: 42\n"
     ]
    },
    {
     "name": "stderr",
     "output_type": "stream",
     "text": [
      "[I 2020-08-08 21:16:35,850] Finished trial#6 with value: -0.4830432014098638 with parameters: {'slow': 3360.0, 'fast': 225.0, 'mult': 1.5}. Best is trial#1 with value: -0.35631300357243334.\n"
     ]
    },
    {
     "name": "stdout",
     "output_type": "stream",
     "text": [
      "take profits: 4 \n",
      "stopped out: 29 \n",
      "time breaches: 72 \n",
      "pos_ret: 14 \n",
      "neg_ret: 29\n"
     ]
    },
    {
     "name": "stderr",
     "output_type": "stream",
     "text": [
      "[I 2020-08-08 21:16:37,039] Finished trial#7 with value: -0.3827039121668736 with parameters: {'slow': 3840.0, 'fast': 315.0, 'mult': 1.8}. Best is trial#1 with value: -0.35631300357243334.\n"
     ]
    },
    {
     "name": "stdout",
     "output_type": "stream",
     "text": [
      "take profits: 5 \n",
      "stopped out: 62 \n",
      "time breaches: 168 \n",
      "pos_ret: 39 \n",
      "neg_ret: 64\n"
     ]
    },
    {
     "name": "stderr",
     "output_type": "stream",
     "text": [
      "[I 2020-08-08 21:16:38,194] Finished trial#8 with value: -0.6670055617399961 with parameters: {'slow': 2160.0, 'fast': 195.0, 'mult': 1.5}. Best is trial#1 with value: -0.35631300357243334.\n"
     ]
    },
    {
     "name": "stdout",
     "output_type": "stream",
     "text": [
      "take profits: 1 \n",
      "stopped out: 25 \n",
      "time breaches: 35 \n",
      "pos_ret: 5 \n",
      "neg_ret: 25\n"
     ]
    },
    {
     "name": "stderr",
     "output_type": "stream",
     "text": [
      "[I 2020-08-08 21:16:39,424] Finished trial#9 with value: -0.4879159768902868 with parameters: {'slow': 2640.0, 'fast': 315.0, 'mult': 2.2}. Best is trial#1 with value: -0.35631300357243334.\n"
     ]
    },
    {
     "name": "stdout",
     "output_type": "stream",
     "text": [
      "take profits: 4 \n",
      "stopped out: 27 \n",
      "time breaches: 91 \n",
      "pos_ret: 19 \n",
      "neg_ret: 27\n"
     ]
    },
    {
     "name": "stderr",
     "output_type": "stream",
     "text": [
      "[I 2020-08-08 21:16:40,645] Finished trial#10 with value: -0.16382245707653603 with parameters: {'slow': 4320.0, 'fast': 345.0, 'mult': 1.3}. Best is trial#10 with value: -0.16382245707653603.\n"
     ]
    },
    {
     "name": "stdout",
     "output_type": "stream",
     "text": [
      "take profits: 4 \n",
      "stopped out: 24 \n",
      "time breaches: 88 \n",
      "pos_ret: 18 \n",
      "neg_ret: 24\n"
     ]
    },
    {
     "name": "stderr",
     "output_type": "stream",
     "text": [
      "[I 2020-08-08 21:16:41,902] Finished trial#11 with value: -0.13951694948586446 with parameters: {'slow': 4320.0, 'fast': 360.0, 'mult': 1.3}. Best is trial#11 with value: -0.13951694948586446.\n"
     ]
    },
    {
     "name": "stdout",
     "output_type": "stream",
     "text": [
      "take profits: 4 \n",
      "stopped out: 24 \n",
      "time breaches: 88 \n",
      "pos_ret: 18 \n",
      "neg_ret: 24\n"
     ]
    },
    {
     "name": "stderr",
     "output_type": "stream",
     "text": [
      "[I 2020-08-08 21:16:43,101] Finished trial#12 with value: -0.13951694948586446 with parameters: {'slow': 4320.0, 'fast': 360.0, 'mult': 1.3}. Best is trial#11 with value: -0.13951694948586446.\n"
     ]
    },
    {
     "name": "stdout",
     "output_type": "stream",
     "text": [
      "take profits: 8 \n",
      "stopped out: 33 \n",
      "time breaches: 97 \n",
      "pos_ret: 21 \n",
      "neg_ret: 33\n"
     ]
    },
    {
     "name": "stderr",
     "output_type": "stream",
     "text": [
      "[I 2020-08-08 21:16:44,415] Finished trial#13 with value: -0.19880389987019417 with parameters: {'slow': 4320.0, 'fast': 270.0, 'mult': 1.3}. Best is trial#11 with value: -0.13951694948586446.\n"
     ]
    },
    {
     "name": "stdout",
     "output_type": "stream",
     "text": [
      "take profits: 6 \n",
      "stopped out: 27 \n",
      "time breaches: 101 \n",
      "pos_ret: 22 \n",
      "neg_ret: 27\n"
     ]
    },
    {
     "name": "stderr",
     "output_type": "stream",
     "text": [
      "[I 2020-08-08 21:16:45,696] Finished trial#14 with value: -0.11273630612211877 with parameters: {'slow': 4080.0, 'fast': 270.0, 'mult': 1.3}. Best is trial#14 with value: -0.11273630612211877.\n"
     ]
    },
    {
     "name": "stdout",
     "output_type": "stream",
     "text": [
      "take profits: 4 \n",
      "stopped out: 38 \n",
      "time breaches: 96 \n",
      "pos_ret: 20 \n",
      "neg_ret: 38\n"
     ]
    },
    {
     "name": "stderr",
     "output_type": "stream",
     "text": [
      "[I 2020-08-08 21:16:46,972] Finished trial#15 with value: -0.4060181771598603 with parameters: {'slow': 3840.0, 'fast': 255.0, 'mult': 1.6}. Best is trial#14 with value: -0.11273630612211877.\n"
     ]
    },
    {
     "name": "stdout",
     "output_type": "stream",
     "text": [
      "take profits: 5 \n",
      "stopped out: 34 \n",
      "time breaches: 95 \n",
      "pos_ret: 18 \n",
      "neg_ret: 34\n"
     ]
    },
    {
     "name": "stderr",
     "output_type": "stream",
     "text": [
      "[I 2020-08-08 21:16:48,255] Finished trial#16 with value: -0.3254970771759108 with parameters: {'slow': 3600.0, 'fast': 285.0, 'mult': 1.4000000000000001}. Best is trial#14 with value: -0.11273630612211877.\n"
     ]
    },
    {
     "name": "stdout",
     "output_type": "stream",
     "text": [
      "take profits: 1 \n",
      "stopped out: 32 \n",
      "time breaches: 74 \n",
      "pos_ret: 15 \n",
      "neg_ret: 32\n"
     ]
    },
    {
     "name": "stderr",
     "output_type": "stream",
     "text": [
      "[I 2020-08-08 21:16:49,461] Finished trial#17 with value: -0.5188843060798334 with parameters: {'slow': 4320.0, 'fast': 315.0, 'mult': 1.7000000000000002}. Best is trial#14 with value: -0.11273630612211877.\n"
     ]
    },
    {
     "name": "stdout",
     "output_type": "stream",
     "text": [
      "take profits: 4 \n",
      "stopped out: 34 \n",
      "time breaches: 101 \n",
      "pos_ret: 21 \n",
      "neg_ret: 34\n"
     ]
    },
    {
     "name": "stderr",
     "output_type": "stream",
     "text": [
      "[I 2020-08-08 21:16:50,666] Finished trial#18 with value: -0.29297147556344916 with parameters: {'slow': 4080.0, 'fast': 240.0, 'mult': 1.4000000000000001}. Best is trial#14 with value: -0.11273630612211877.\n"
     ]
    },
    {
     "name": "stdout",
     "output_type": "stream",
     "text": [
      "take profits: 5 \n",
      "stopped out: 38 \n",
      "time breaches: 104 \n",
      "pos_ret: 19 \n",
      "neg_ret: 38\n"
     ]
    },
    {
     "name": "stderr",
     "output_type": "stream",
     "text": [
      "[I 2020-08-08 21:16:51,856] Finished trial#19 with value: -0.41373931027711264 with parameters: {'slow': 3360.0, 'fast': 285.0, 'mult': 1.4000000000000001}. Best is trial#14 with value: -0.11273630612211877.\n"
     ]
    },
    {
     "name": "stdout",
     "output_type": "stream",
     "text": [
      "take profits: 1 \n",
      "stopped out: 29 \n",
      "time breaches: 75 \n",
      "pos_ret: 14 \n",
      "neg_ret: 29\n"
     ]
    },
    {
     "name": "stderr",
     "output_type": "stream",
     "text": [
      "[I 2020-08-08 21:16:52,997] Finished trial#20 with value: -0.44033877438948776 with parameters: {'slow': 4080.0, 'fast': 330.0, 'mult': 1.7000000000000002}. Best is trial#14 with value: -0.11273630612211877.\n"
     ]
    },
    {
     "name": "stdout",
     "output_type": "stream",
     "text": [
      "take profits: 4 \n",
      "stopped out: 24 \n",
      "time breaches: 88 \n",
      "pos_ret: 18 \n",
      "neg_ret: 24\n"
     ]
    },
    {
     "name": "stderr",
     "output_type": "stream",
     "text": [
      "[I 2020-08-08 21:16:54,112] Finished trial#21 with value: -0.13951694948586446 with parameters: {'slow': 4320.0, 'fast': 360.0, 'mult': 1.3}. Best is trial#14 with value: -0.11273630612211877.\n"
     ]
    },
    {
     "name": "stdout",
     "output_type": "stream",
     "text": [
      "take profits: 7 \n",
      "stopped out: 28 \n",
      "time breaches: 90 \n",
      "pos_ret: 22 \n",
      "neg_ret: 28\n"
     ]
    },
    {
     "name": "stderr",
     "output_type": "stream",
     "text": [
      "[I 2020-08-08 21:16:55,231] Finished trial#22 with value: -0.10444639069373808 with parameters: {'slow': 4080.0, 'fast': 360.0, 'mult': 1.3}. Best is trial#22 with value: -0.10444639069373808.\n"
     ]
    },
    {
     "name": "stdout",
     "output_type": "stream",
     "text": [
      "take profits: 2 \n",
      "stopped out: 40 \n",
      "time breaches: 99 \n",
      "pos_ret: 18 \n",
      "neg_ret: 40\n"
     ]
    },
    {
     "name": "stderr",
     "output_type": "stream",
     "text": [
      "[I 2020-08-08 21:16:56,360] Finished trial#23 with value: -0.5804012540795236 with parameters: {'slow': 3600.0, 'fast': 300.0, 'mult': 1.5}. Best is trial#22 with value: -0.10444639069373808.\n"
     ]
    },
    {
     "name": "stdout",
     "output_type": "stream",
     "text": [
      "take profits: 3 \n",
      "stopped out: 27 \n",
      "time breaches: 79 \n",
      "pos_ret: 16 \n",
      "neg_ret: 27\n"
     ]
    },
    {
     "name": "stderr",
     "output_type": "stream",
     "text": [
      "[I 2020-08-08 21:16:57,522] Finished trial#24 with value: -0.367258165181257 with parameters: {'slow': 4080.0, 'fast': 360.0, 'mult': 1.4000000000000001}. Best is trial#22 with value: -0.10444639069373808.\n"
     ]
    },
    {
     "name": "stdout",
     "output_type": "stream",
     "text": [
      "take profits: 4 \n",
      "stopped out: 31 \n",
      "time breaches: 97 \n",
      "pos_ret: 18 \n",
      "neg_ret: 31\n"
     ]
    },
    {
     "name": "stderr",
     "output_type": "stream",
     "text": [
      "[I 2020-08-08 21:16:58,718] Finished trial#25 with value: -0.3399926713649245 with parameters: {'slow': 3600.0, 'fast': 330.0, 'mult': 1.3}. Best is trial#22 with value: -0.10444639069373808.\n"
     ]
    },
    {
     "name": "stdout",
     "output_type": "stream",
     "text": [
      "take profits: 6 \n",
      "stopped out: 39 \n",
      "time breaches: 104 \n",
      "pos_ret: 24 \n",
      "neg_ret: 39\n"
     ]
    },
    {
     "name": "stderr",
     "output_type": "stream",
     "text": [
      "[I 2020-08-08 21:16:59,935] Finished trial#26 with value: -0.4132457532373976 with parameters: {'slow': 3120.0, 'fast': 255.0, 'mult': 1.6}. Best is trial#22 with value: -0.10444639069373808.\n"
     ]
    },
    {
     "name": "stdout",
     "output_type": "stream",
     "text": [
      "take profits: 2 \n",
      "stopped out: 31 \n",
      "time breaches: 90 \n",
      "pos_ret: 16 \n",
      "neg_ret: 31\n"
     ]
    },
    {
     "name": "stderr",
     "output_type": "stream",
     "text": [
      "[I 2020-08-08 21:17:01,293] Finished trial#27 with value: -0.40248714401175634 with parameters: {'slow': 4080.0, 'fast': 285.0, 'mult': 1.4000000000000001}. Best is trial#22 with value: -0.10444639069373808.\n"
     ]
    },
    {
     "name": "stdout",
     "output_type": "stream",
     "text": [
      "take profits: 4 \n",
      "stopped out: 35 \n",
      "time breaches: 85 \n",
      "pos_ret: 17 \n",
      "neg_ret: 35\n"
     ]
    },
    {
     "name": "stderr",
     "output_type": "stream",
     "text": [
      "[I 2020-08-08 21:17:02,679] Finished trial#28 with value: -0.35879341006969456 with parameters: {'slow': 3840.0, 'fast': 345.0, 'mult': 1.5}. Best is trial#22 with value: -0.10444639069373808.\n"
     ]
    },
    {
     "name": "stdout",
     "output_type": "stream",
     "text": [
      "take profits: 6 \n",
      "stopped out: 69 \n",
      "time breaches: 263 \n",
      "pos_ret: 68 \n",
      "neg_ret: 71\n"
     ]
    },
    {
     "name": "stderr",
     "output_type": "stream",
     "text": [
      "[I 2020-08-08 21:17:03,984] Finished trial#29 with value: -0.38745138854736244 with parameters: {'slow': 2400.0, 'fast': 75.0, 'mult': 1.3}. Best is trial#22 with value: -0.10444639069373808.\n"
     ]
    },
    {
     "name": "stdout",
     "output_type": "stream",
     "text": [
      "take profits: 8 \n",
      "stopped out: 55 \n",
      "time breaches: 122 \n",
      "pos_ret: 26 \n",
      "neg_ret: 55\n"
     ]
    },
    {
     "name": "stderr",
     "output_type": "stream",
     "text": [
      "[I 2020-08-08 21:17:05,212] Finished trial#30 with value: -0.587199405555899 with parameters: {'slow': 3120.0, 'fast': 105.0, 'mult': 1.9000000000000001}. Best is trial#22 with value: -0.10444639069373808.\n"
     ]
    },
    {
     "name": "stdout",
     "output_type": "stream",
     "text": [
      "take profits: 4 \n",
      "stopped out: 24 \n",
      "time breaches: 88 \n",
      "pos_ret: 18 \n",
      "neg_ret: 24\n"
     ]
    },
    {
     "name": "stderr",
     "output_type": "stream",
     "text": [
      "[I 2020-08-08 21:17:06,353] Finished trial#31 with value: -0.13951694948586446 with parameters: {'slow': 4320.0, 'fast': 360.0, 'mult': 1.3}. Best is trial#22 with value: -0.10444639069373808.\n"
     ]
    },
    {
     "name": "stdout",
     "output_type": "stream",
     "text": [
      "take profits: 3 \n",
      "stopped out: 29 \n",
      "time breaches: 79 \n",
      "pos_ret: 15 \n",
      "neg_ret: 29\n"
     ]
    },
    {
     "name": "stderr",
     "output_type": "stream",
     "text": [
      "[I 2020-08-08 21:17:07,508] Finished trial#32 with value: -0.3987374696629775 with parameters: {'slow': 4080.0, 'fast': 345.0, 'mult': 1.4000000000000001}. Best is trial#22 with value: -0.10444639069373808.\n"
     ]
    },
    {
     "name": "stdout",
     "output_type": "stream",
     "text": [
      "take profits: 4 \n",
      "stopped out: 24 \n",
      "time breaches: 88 \n",
      "pos_ret: 18 \n",
      "neg_ret: 24\n"
     ]
    },
    {
     "name": "stderr",
     "output_type": "stream",
     "text": [
      "[I 2020-08-08 21:17:08,699] Finished trial#33 with value: -0.13951694948586446 with parameters: {'slow': 4320.0, 'fast': 360.0, 'mult': 1.3}. Best is trial#22 with value: -0.10444639069373808.\n"
     ]
    },
    {
     "name": "stdout",
     "output_type": "stream",
     "text": [
      "take profits: 5 \n",
      "stopped out: 27 \n",
      "time breaches: 82 \n",
      "pos_ret: 18 \n",
      "neg_ret: 27\n"
     ]
    },
    {
     "name": "stderr",
     "output_type": "stream",
     "text": [
      "[I 2020-08-08 21:17:09,860] Finished trial#34 with value: -0.19018682499849032 with parameters: {'slow': 4080.0, 'fast': 330.0, 'mult': 1.5}. Best is trial#22 with value: -0.10444639069373808.\n"
     ]
    },
    {
     "name": "stdout",
     "output_type": "stream",
     "text": [
      "take profits: 1 \n",
      "stopped out: 31 \n",
      "time breaches: 85 \n",
      "pos_ret: 16 \n",
      "neg_ret: 31\n"
     ]
    },
    {
     "name": "stderr",
     "output_type": "stream",
     "text": [
      "[I 2020-08-08 21:17:11,194] Finished trial#35 with value: -0.45715313100834604 with parameters: {'slow': 3840.0, 'fast': 300.0, 'mult': 1.4000000000000001}. Best is trial#22 with value: -0.10444639069373808.\n"
     ]
    },
    {
     "name": "stdout",
     "output_type": "stream",
     "text": [
      "take profits: 5 \n",
      "stopped out: 45 \n",
      "time breaches: 122 \n",
      "pos_ret: 20 \n",
      "neg_ret: 45\n"
     ]
    },
    {
     "name": "stderr",
     "output_type": "stream",
     "text": [
      "[I 2020-08-08 21:17:12,579] Finished trial#36 with value: -0.5949668015617395 with parameters: {'slow': 3600.0, 'fast': 150.0, 'mult': 1.6}. Best is trial#22 with value: -0.10444639069373808.\n"
     ]
    },
    {
     "name": "stdout",
     "output_type": "stream",
     "text": [
      "take profits: 7 \n",
      "stopped out: 60 \n",
      "time breaches: 209 \n",
      "pos_ret: 52 \n",
      "neg_ret: 66\n"
     ]
    },
    {
     "name": "stderr",
     "output_type": "stream",
     "text": [
      "[I 2020-08-08 21:17:13,894] Finished trial#37 with value: -0.5982810519797739 with parameters: {'slow': 1680.0, 'fast': 210.0, 'mult': 1.3}. Best is trial#22 with value: -0.10444639069373808.\n"
     ]
    },
    {
     "name": "stdout",
     "output_type": "stream",
     "text": [
      "take profits: 7 \n",
      "stopped out: 25 \n",
      "time breaches: 82 \n",
      "pos_ret: 19 \n",
      "neg_ret: 25\n"
     ]
    },
    {
     "name": "stderr",
     "output_type": "stream",
     "text": [
      "[I 2020-08-08 21:17:15,131] Finished trial#38 with value: -0.11161896909226489 with parameters: {'slow': 4320.0, 'fast': 345.0, 'mult': 1.4000000000000001}. Best is trial#22 with value: -0.10444639069373808.\n"
     ]
    },
    {
     "name": "stdout",
     "output_type": "stream",
     "text": [
      "take profits: 5 \n",
      "stopped out: 39 \n",
      "time breaches: 118 \n",
      "pos_ret: 26 \n",
      "neg_ret: 39\n"
     ]
    },
    {
     "name": "stderr",
     "output_type": "stream",
     "text": [
      "[I 2020-08-08 21:17:16,354] Finished trial#39 with value: -0.3551672629744492 with parameters: {'slow': 3840.0, 'fast': 180.0, 'mult': 1.4000000000000001}. Best is trial#22 with value: -0.10444639069373808.\n"
     ]
    },
    {
     "name": "stdout",
     "output_type": "stream",
     "text": [
      "take profits: 5 \n",
      "stopped out: 29 \n",
      "time breaches: 86 \n",
      "pos_ret: 18 \n",
      "neg_ret: 29\n"
     ]
    },
    {
     "name": "stderr",
     "output_type": "stream",
     "text": [
      "[I 2020-08-08 21:17:17,770] Finished trial#40 with value: -0.208558915351304 with parameters: {'slow': 4080.0, 'fast': 300.0, 'mult': 1.5}. Best is trial#22 with value: -0.10444639069373808.\n"
     ]
    },
    {
     "name": "stdout",
     "output_type": "stream",
     "text": [
      "take profits: 4 \n",
      "stopped out: 27 \n",
      "time breaches: 91 \n",
      "pos_ret: 19 \n",
      "neg_ret: 27\n"
     ]
    },
    {
     "name": "stderr",
     "output_type": "stream",
     "text": [
      "[I 2020-08-08 21:17:19,082] Finished trial#41 with value: -0.16382245707653603 with parameters: {'slow': 4320.0, 'fast': 345.0, 'mult': 1.3}. Best is trial#22 with value: -0.10444639069373808.\n"
     ]
    },
    {
     "name": "stdout",
     "output_type": "stream",
     "text": [
      "take profits: 2 \n",
      "stopped out: 22 \n",
      "time breaches: 33 \n",
      "pos_ret: 8 \n",
      "neg_ret: 22\n"
     ]
    },
    {
     "name": "stderr",
     "output_type": "stream",
     "text": [
      "[I 2020-08-08 21:17:20,377] Finished trial#42 with value: -0.3775613993585732 with parameters: {'slow': 4320.0, 'fast': 330.0, 'mult': 2.3}. Best is trial#22 with value: -0.10444639069373808.\n"
     ]
    },
    {
     "name": "stdout",
     "output_type": "stream",
     "text": [
      "take profits: 7 \n",
      "stopped out: 28 \n",
      "time breaches: 90 \n",
      "pos_ret: 22 \n",
      "neg_ret: 28\n"
     ]
    },
    {
     "name": "stderr",
     "output_type": "stream",
     "text": [
      "[I 2020-08-08 21:17:21,578] Finished trial#43 with value: -0.10444639069373808 with parameters: {'slow': 4080.0, 'fast': 360.0, 'mult': 1.3}. Best is trial#22 with value: -0.10444639069373808.\n"
     ]
    },
    {
     "name": "stdout",
     "output_type": "stream",
     "text": [
      "take profits: 2 \n",
      "stopped out: 29 \n",
      "time breaches: 84 \n",
      "pos_ret: 16 \n",
      "neg_ret: 29\n"
     ]
    },
    {
     "name": "stderr",
     "output_type": "stream",
     "text": [
      "[I 2020-08-08 21:17:22,867] Finished trial#44 with value: -0.38196562312941645 with parameters: {'slow': 3840.0, 'fast': 315.0, 'mult': 1.4000000000000001}. Best is trial#22 with value: -0.10444639069373808.\n"
     ]
    },
    {
     "name": "stdout",
     "output_type": "stream",
     "text": [
      "take profits: 6 \n",
      "stopped out: 25 \n",
      "time breaches: 91 \n",
      "pos_ret: 22 \n",
      "neg_ret: 25\n"
     ]
    },
    {
     "name": "stderr",
     "output_type": "stream",
     "text": [
      "[I 2020-08-08 21:17:24,061] Finished trial#45 with value: -0.07311899470257147 with parameters: {'slow': 4080.0, 'fast': 345.0, 'mult': 1.3}. Best is trial#45 with value: -0.07311899470257147.\n"
     ]
    },
    {
     "name": "stdout",
     "output_type": "stream",
     "text": [
      "take profits: 3 \n",
      "stopped out: 36 \n",
      "time breaches: 85 \n",
      "pos_ret: 17 \n",
      "neg_ret: 36\n"
     ]
    },
    {
     "name": "stderr",
     "output_type": "stream",
     "text": [
      "[I 2020-08-08 21:17:25,474] Finished trial#46 with value: -0.4600269390686922 with parameters: {'slow': 3600.0, 'fast': 345.0, 'mult': 1.5}. Best is trial#45 with value: -0.07311899470257147.\n"
     ]
    },
    {
     "name": "stdout",
     "output_type": "stream",
     "text": [
      "take profits: 4 \n",
      "stopped out: 35 \n",
      "time breaches: 113 \n",
      "pos_ret: 26 \n",
      "neg_ret: 35\n"
     ]
    },
    {
     "name": "stderr",
     "output_type": "stream",
     "text": [
      "[I 2020-08-08 21:17:26,825] Finished trial#47 with value: -0.3380969309219132 with parameters: {'slow': 3360.0, 'fast': 270.0, 'mult': 1.3}. Best is trial#45 with value: -0.07311899470257147.\n"
     ]
    },
    {
     "name": "stdout",
     "output_type": "stream",
     "text": [
      "take profits: 3 \n",
      "stopped out: 38 \n",
      "time breaches: 88 \n",
      "pos_ret: 15 \n",
      "neg_ret: 38\n"
     ]
    },
    {
     "name": "stderr",
     "output_type": "stream",
     "text": [
      "[I 2020-08-08 21:17:28,177] Finished trial#48 with value: -0.5493212789628792 with parameters: {'slow': 3840.0, 'fast': 225.0, 'mult': 1.7000000000000002}. Best is trial#45 with value: -0.07311899470257147.\n"
     ]
    },
    {
     "name": "stdout",
     "output_type": "stream",
     "text": [
      "take profits: 4 \n",
      "stopped out: 28 \n",
      "time breaches: 56 \n",
      "pos_ret: 11 \n",
      "neg_ret: 28\n"
     ]
    },
    {
     "name": "stderr",
     "output_type": "stream",
     "text": [
      "[I 2020-08-08 21:17:29,464] Finished trial#49 with value: -0.48193842032395817 with parameters: {'slow': 4080.0, 'fast': 315.0, 'mult': 2.0}. Best is trial#45 with value: -0.07311899470257147.\n"
     ]
    },
    {
     "name": "stdout",
     "output_type": "stream",
     "text": [
      "take profits: 3 \n",
      "stopped out: 29 \n",
      "time breaches: 83 \n",
      "pos_ret: 17 \n",
      "neg_ret: 29\n"
     ]
    },
    {
     "name": "stderr",
     "output_type": "stream",
     "text": [
      "[I 2020-08-08 21:17:31,001] Finished trial#50 with value: -0.3332120930967016 with parameters: {'slow': 3840.0, 'fast': 330.0, 'mult': 1.4000000000000001}. Best is trial#45 with value: -0.07311899470257147.\n"
     ]
    },
    {
     "name": "stdout",
     "output_type": "stream",
     "text": [
      "take profits: 4 \n",
      "stopped out: 24 \n",
      "time breaches: 88 \n",
      "pos_ret: 18 \n",
      "neg_ret: 24\n"
     ]
    },
    {
     "name": "stderr",
     "output_type": "stream",
     "text": [
      "[I 2020-08-08 21:17:32,252] Finished trial#51 with value: -0.13951694948586446 with parameters: {'slow': 4320.0, 'fast': 360.0, 'mult': 1.3}. Best is trial#45 with value: -0.07311899470257147.\n"
     ]
    },
    {
     "name": "stdout",
     "output_type": "stream",
     "text": [
      "take profits: 7 \n",
      "stopped out: 28 \n",
      "time breaches: 90 \n",
      "pos_ret: 22 \n",
      "neg_ret: 28\n"
     ]
    },
    {
     "name": "stderr",
     "output_type": "stream",
     "text": [
      "[I 2020-08-08 21:17:33,589] Finished trial#52 with value: -0.10444639069373808 with parameters: {'slow': 4080.0, 'fast': 360.0, 'mult': 1.3}. Best is trial#45 with value: -0.07311899470257147.\n"
     ]
    },
    {
     "name": "stdout",
     "output_type": "stream",
     "text": [
      "take profits: 3 \n",
      "stopped out: 29 \n",
      "time breaches: 79 \n",
      "pos_ret: 15 \n",
      "neg_ret: 29\n"
     ]
    },
    {
     "name": "stderr",
     "output_type": "stream",
     "text": [
      "[I 2020-08-08 21:17:35,235] Finished trial#53 with value: -0.3987374696629775 with parameters: {'slow': 4080.0, 'fast': 345.0, 'mult': 1.4000000000000001}. Best is trial#45 with value: -0.07311899470257147.\n"
     ]
    },
    {
     "name": "stdout",
     "output_type": "stream",
     "text": [
      "take profits: 7 \n",
      "stopped out: 25 \n",
      "time breaches: 92 \n",
      "pos_ret: 23 \n",
      "neg_ret: 25\n"
     ]
    },
    {
     "name": "stderr",
     "output_type": "stream",
     "text": [
      "[I 2020-08-08 21:17:37,020] Finished trial#54 with value: -0.011172430947941049 with parameters: {'slow': 4080.0, 'fast': 315.0, 'mult': 1.3}. Best is trial#54 with value: -0.011172430947941049.\n"
     ]
    },
    {
     "name": "stdout",
     "output_type": "stream",
     "text": [
      "take profits: 7 \n",
      "stopped out: 31 \n",
      "time breaches: 98 \n",
      "pos_ret: 23 \n",
      "neg_ret: 31\n"
     ]
    },
    {
     "name": "stderr",
     "output_type": "stream",
     "text": [
      "[I 2020-08-08 21:17:38,289] Finished trial#55 with value: -0.16004334206292659 with parameters: {'slow': 3840.0, 'fast': 345.0, 'mult': 1.3}. Best is trial#54 with value: -0.011172430947941049.\n"
     ]
    },
    {
     "name": "stdout",
     "output_type": "stream",
     "text": [
      "take profits: 3 \n",
      "stopped out: 27 \n",
      "time breaches: 79 \n",
      "pos_ret: 16 \n",
      "neg_ret: 27\n"
     ]
    },
    {
     "name": "stderr",
     "output_type": "stream",
     "text": [
      "[I 2020-08-08 21:17:39,650] Finished trial#56 with value: -0.367258165181257 with parameters: {'slow': 4080.0, 'fast': 360.0, 'mult': 1.4000000000000001}. Best is trial#54 with value: -0.011172430947941049.\n"
     ]
    },
    {
     "name": "stdout",
     "output_type": "stream",
     "text": [
      "take profits: 4 \n",
      "stopped out: 31 \n",
      "time breaches: 97 \n",
      "pos_ret: 18 \n",
      "neg_ret: 31\n"
     ]
    },
    {
     "name": "stderr",
     "output_type": "stream",
     "text": [
      "[I 2020-08-08 21:17:40,971] Finished trial#57 with value: -0.3399926713649245 with parameters: {'slow': 3600.0, 'fast': 330.0, 'mult': 1.3}. Best is trial#54 with value: -0.011172430947941049.\n"
     ]
    },
    {
     "name": "stdout",
     "output_type": "stream",
     "text": [
      "take profits: 7 \n",
      "stopped out: 27 \n",
      "time breaches: 98 \n",
      "pos_ret: 23 \n",
      "neg_ret: 27\n"
     ]
    },
    {
     "name": "stderr",
     "output_type": "stream",
     "text": [
      "[I 2020-08-08 21:17:42,246] Finished trial#58 with value: -0.08033850768520194 with parameters: {'slow': 4320.0, 'fast': 300.0, 'mult': 1.3}. Best is trial#54 with value: -0.011172430947941049.\n"
     ]
    },
    {
     "name": "stdout",
     "output_type": "stream",
     "text": [
      "take profits: 4 \n",
      "stopped out: 31 \n",
      "time breaches: 106 \n",
      "pos_ret: 25 \n",
      "neg_ret: 31\n"
     ]
    },
    {
     "name": "stderr",
     "output_type": "stream",
     "text": [
      "[I 2020-08-08 21:17:43,554] Finished trial#59 with value: -0.2802544359694258 with parameters: {'slow': 3360.0, 'fast': 300.0, 'mult': 1.3}. Best is trial#54 with value: -0.011172430947941049.\n"
     ]
    },
    {
     "name": "stdout",
     "output_type": "stream",
     "text": [
      "take profits: 7 \n",
      "stopped out: 25 \n",
      "time breaches: 92 \n",
      "pos_ret: 23 \n",
      "neg_ret: 25\n"
     ]
    },
    {
     "name": "stderr",
     "output_type": "stream",
     "text": [
      "[I 2020-08-08 21:17:44,869] Finished trial#60 with value: -0.011172430947941049 with parameters: {'slow': 4080.0, 'fast': 315.0, 'mult': 1.3}. Best is trial#54 with value: -0.011172430947941049.\n"
     ]
    },
    {
     "name": "stdout",
     "output_type": "stream",
     "text": [
      "take profits: 7 \n",
      "stopped out: 25 \n",
      "time breaches: 92 \n",
      "pos_ret: 23 \n",
      "neg_ret: 25\n"
     ]
    },
    {
     "name": "stderr",
     "output_type": "stream",
     "text": [
      "[I 2020-08-08 21:17:46,206] Finished trial#61 with value: -0.011172430947941049 with parameters: {'slow': 4080.0, 'fast': 315.0, 'mult': 1.3}. Best is trial#54 with value: -0.011172430947941049.\n"
     ]
    },
    {
     "name": "stdout",
     "output_type": "stream",
     "text": [
      "take profits: 6 \n",
      "stopped out: 32 \n",
      "time breaches: 103 \n",
      "pos_ret: 23 \n",
      "neg_ret: 32\n"
     ]
    },
    {
     "name": "stderr",
     "output_type": "stream",
     "text": [
      "[I 2020-08-08 21:17:47,421] Finished trial#62 with value: -0.21472609577443028 with parameters: {'slow': 3840.0, 'fast': 315.0, 'mult': 1.3}. Best is trial#54 with value: -0.011172430947941049.\n"
     ]
    },
    {
     "name": "stdout",
     "output_type": "stream",
     "text": [
      "take profits: 2 \n",
      "stopped out: 31 \n",
      "time breaches: 90 \n",
      "pos_ret: 16 \n",
      "neg_ret: 31\n"
     ]
    },
    {
     "name": "stderr",
     "output_type": "stream",
     "text": [
      "[I 2020-08-08 21:17:48,666] Finished trial#63 with value: -0.40248714401175634 with parameters: {'slow': 4080.0, 'fast': 285.0, 'mult': 1.4000000000000001}. Best is trial#54 with value: -0.011172430947941049.\n"
     ]
    },
    {
     "name": "stdout",
     "output_type": "stream",
     "text": [
      "take profits: 7 \n",
      "stopped out: 27 \n",
      "time breaches: 98 \n",
      "pos_ret: 23 \n",
      "neg_ret: 27\n"
     ]
    },
    {
     "name": "stderr",
     "output_type": "stream",
     "text": [
      "[I 2020-08-08 21:17:49,967] Finished trial#64 with value: -0.08033850768520194 with parameters: {'slow': 4320.0, 'fast': 300.0, 'mult': 1.3}. Best is trial#54 with value: -0.011172430947941049.\n"
     ]
    },
    {
     "name": "stdout",
     "output_type": "stream",
     "text": [
      "take profits: 8 \n",
      "stopped out: 31 \n",
      "time breaches: 85 \n",
      "pos_ret: 20 \n",
      "neg_ret: 31\n"
     ]
    },
    {
     "name": "stderr",
     "output_type": "stream",
     "text": [
      "[I 2020-08-08 21:17:51,211] Finished trial#65 with value: -0.1705846940286598 with parameters: {'slow': 4320.0, 'fast': 300.0, 'mult': 1.4000000000000001}. Best is trial#54 with value: -0.011172430947941049.\n"
     ]
    },
    {
     "name": "stdout",
     "output_type": "stream",
     "text": [
      "take profits: 2 \n",
      "stopped out: 32 \n",
      "time breaches: 85 \n",
      "pos_ret: 15 \n",
      "neg_ret: 32\n"
     ]
    },
    {
     "name": "stderr",
     "output_type": "stream",
     "text": [
      "[I 2020-08-08 21:17:52,448] Finished trial#66 with value: -0.3975347643140773 with parameters: {'slow': 4320.0, 'fast': 285.0, 'mult': 1.5}. Best is trial#54 with value: -0.011172430947941049.\n"
     ]
    },
    {
     "name": "stdout",
     "output_type": "stream",
     "text": [
      "take profits: 8 \n",
      "stopped out: 32 \n",
      "time breaches: 105 \n",
      "pos_ret: 23 \n",
      "neg_ret: 32\n"
     ]
    },
    {
     "name": "stderr",
     "output_type": "stream",
     "text": [
      "[I 2020-08-08 21:17:53,750] Finished trial#67 with value: -0.15817306407192624 with parameters: {'slow': 4320.0, 'fast': 255.0, 'mult': 1.3}. Best is trial#54 with value: -0.011172430947941049.\n"
     ]
    },
    {
     "name": "stdout",
     "output_type": "stream",
     "text": [
      "take profits: 6 \n",
      "stopped out: 27 \n",
      "time breaches: 101 \n",
      "pos_ret: 22 \n",
      "neg_ret: 27\n"
     ]
    },
    {
     "name": "stderr",
     "output_type": "stream",
     "text": [
      "[I 2020-08-08 21:17:55,025] Finished trial#68 with value: -0.11273630612211877 with parameters: {'slow': 4080.0, 'fast': 270.0, 'mult': 1.3}. Best is trial#54 with value: -0.011172430947941049.\n"
     ]
    },
    {
     "name": "stdout",
     "output_type": "stream",
     "text": [
      "take profits: 1 \n",
      "stopped out: 31 \n",
      "time breaches: 85 \n",
      "pos_ret: 16 \n",
      "neg_ret: 31\n"
     ]
    },
    {
     "name": "stderr",
     "output_type": "stream",
     "text": [
      "[I 2020-08-08 21:17:56,465] Finished trial#69 with value: -0.45715313100834604 with parameters: {'slow': 3840.0, 'fast': 300.0, 'mult': 1.4000000000000001}. Best is trial#54 with value: -0.011172430947941049.\n"
     ]
    },
    {
     "name": "stdout",
     "output_type": "stream",
     "text": [
      "take profits: 8 \n",
      "stopped out: 51 \n",
      "time breaches: 138 \n",
      "pos_ret: 40 \n",
      "neg_ret: 52\n"
     ]
    },
    {
     "name": "stderr",
     "output_type": "stream",
     "text": [
      "[I 2020-08-08 21:17:57,921] Finished trial#70 with value: -0.3199033056390639 with parameters: {'slow': 2160.0, 'fast': 315.0, 'mult': 1.4000000000000001}. Best is trial#54 with value: -0.011172430947941049.\n"
     ]
    },
    {
     "name": "stdout",
     "output_type": "stream",
     "text": [
      "take profits: 9 \n",
      "stopped out: 27 \n",
      "time breaches: 91 \n",
      "pos_ret: 25 \n",
      "neg_ret: 27\n"
     ]
    },
    {
     "name": "stderr",
     "output_type": "stream",
     "text": [
      "[I 2020-08-08 21:17:59,394] Finished trial#71 with value: -0.002023423323469789 with parameters: {'slow': 4080.0, 'fast': 330.0, 'mult': 1.3}. Best is trial#71 with value: -0.002023423323469789.\n"
     ]
    },
    {
     "name": "stdout",
     "output_type": "stream",
     "text": [
      "take profits: 7 \n",
      "stopped out: 25 \n",
      "time breaches: 92 \n",
      "pos_ret: 23 \n",
      "neg_ret: 25\n"
     ]
    },
    {
     "name": "stderr",
     "output_type": "stream",
     "text": [
      "[I 2020-08-08 21:18:01,019] Finished trial#72 with value: -0.011172430947941049 with parameters: {'slow': 4080.0, 'fast': 315.0, 'mult': 1.3}. Best is trial#71 with value: -0.002023423323469789.\n"
     ]
    },
    {
     "name": "stdout",
     "output_type": "stream",
     "text": [
      "take profits: 7 \n",
      "stopped out: 26 \n",
      "time breaches: 93 \n",
      "pos_ret: 21 \n",
      "neg_ret: 26\n"
     ]
    },
    {
     "name": "stderr",
     "output_type": "stream",
     "text": [
      "[I 2020-08-08 21:18:02,296] Finished trial#73 with value: -0.08970090608662781 with parameters: {'slow': 4320.0, 'fast': 315.0, 'mult': 1.3}. Best is trial#71 with value: -0.002023423323469789.\n"
     ]
    },
    {
     "name": "stdout",
     "output_type": "stream",
     "text": [
      "take profits: 7 \n",
      "stopped out: 31 \n",
      "time breaches: 100 \n",
      "pos_ret: 23 \n",
      "neg_ret: 31\n"
     ]
    },
    {
     "name": "stderr",
     "output_type": "stream",
     "text": [
      "[I 2020-08-08 21:18:03,584] Finished trial#74 with value: -0.15651383764132565 with parameters: {'slow': 3840.0, 'fast': 330.0, 'mult': 1.3}. Best is trial#71 with value: -0.002023423323469789.\n"
     ]
    },
    {
     "name": "stdout",
     "output_type": "stream",
     "text": [
      "take profits: 5 \n",
      "stopped out: 26 \n",
      "time breaches: 80 \n",
      "pos_ret: 17 \n",
      "neg_ret: 26\n"
     ]
    },
    {
     "name": "stderr",
     "output_type": "stream",
     "text": [
      "[I 2020-08-08 21:18:05,027] Finished trial#75 with value: -0.2262135010346218 with parameters: {'slow': 4080.0, 'fast': 315.0, 'mult': 1.4000000000000001}. Best is trial#71 with value: -0.002023423323469789.\n"
     ]
    },
    {
     "name": "stdout",
     "output_type": "stream",
     "text": [
      "take profits: 3 \n",
      "stopped out: 33 \n",
      "time breaches: 79 \n",
      "pos_ret: 13 \n",
      "neg_ret: 33\n"
     ]
    },
    {
     "name": "stderr",
     "output_type": "stream",
     "text": [
      "[I 2020-08-08 21:18:06,336] Finished trial#76 with value: -0.5318415457125392 with parameters: {'slow': 4320.0, 'fast': 285.0, 'mult': 1.8}. Best is trial#71 with value: -0.002023423323469789.\n"
     ]
    },
    {
     "name": "stdout",
     "output_type": "stream",
     "text": [
      "take profits: 6 \n",
      "stopped out: 27 \n",
      "time breaches: 101 \n",
      "pos_ret: 22 \n",
      "neg_ret: 27\n"
     ]
    },
    {
     "name": "stderr",
     "output_type": "stream",
     "text": [
      "[I 2020-08-08 21:18:07,624] Finished trial#77 with value: -0.11273630612211877 with parameters: {'slow': 4080.0, 'fast': 270.0, 'mult': 1.3}. Best is trial#71 with value: -0.002023423323469789.\n"
     ]
    },
    {
     "name": "stdout",
     "output_type": "stream",
     "text": [
      "take profits: 4 \n",
      "stopped out: 26 \n",
      "time breaches: 79 \n",
      "pos_ret: 14 \n",
      "neg_ret: 27\n"
     ]
    },
    {
     "name": "stderr",
     "output_type": "stream",
     "text": [
      "[I 2020-08-08 21:18:09,053] Finished trial#78 with value: -0.2571103762460326 with parameters: {'slow': 4080.0, 'fast': 330.0, 'mult': 1.4000000000000001}. Best is trial#71 with value: -0.002023423323469789.\n"
     ]
    },
    {
     "name": "stdout",
     "output_type": "stream",
     "text": [
      "take profits: 7 \n",
      "stopped out: 27 \n",
      "time breaches: 98 \n",
      "pos_ret: 23 \n",
      "neg_ret: 27\n"
     ]
    },
    {
     "name": "stderr",
     "output_type": "stream",
     "text": [
      "[I 2020-08-08 21:18:10,352] Finished trial#79 with value: -0.08033850768520194 with parameters: {'slow': 4320.0, 'fast': 300.0, 'mult': 1.3}. Best is trial#71 with value: -0.002023423323469789.\n"
     ]
    },
    {
     "name": "stdout",
     "output_type": "stream",
     "text": [
      "take profits: 5 \n",
      "stopped out: 37 \n",
      "time breaches: 96 \n",
      "pos_ret: 22 \n",
      "neg_ret: 37\n"
     ]
    },
    {
     "name": "stderr",
     "output_type": "stream",
     "text": [
      "[I 2020-08-08 21:18:11,693] Finished trial#80 with value: -0.29484978332255585 with parameters: {'slow': 3600.0, 'fast': 315.0, 'mult': 1.5}. Best is trial#71 with value: -0.002023423323469789.\n"
     ]
    },
    {
     "name": "stdout",
     "output_type": "stream",
     "text": [
      "take profits: 7 \n",
      "stopped out: 27 \n",
      "time breaches: 98 \n",
      "pos_ret: 23 \n",
      "neg_ret: 27\n"
     ]
    },
    {
     "name": "stderr",
     "output_type": "stream",
     "text": [
      "[I 2020-08-08 21:18:12,924] Finished trial#81 with value: -0.08033850768520194 with parameters: {'slow': 4320.0, 'fast': 300.0, 'mult': 1.3}. Best is trial#71 with value: -0.002023423323469789.\n"
     ]
    },
    {
     "name": "stdout",
     "output_type": "stream",
     "text": [
      "take profits: 7 \n",
      "stopped out: 32 \n",
      "time breaches: 98 \n",
      "pos_ret: 21 \n",
      "neg_ret: 32\n"
     ]
    },
    {
     "name": "stderr",
     "output_type": "stream",
     "text": [
      "[I 2020-08-08 21:18:14,238] Finished trial#82 with value: -0.18858941488814907 with parameters: {'slow': 4320.0, 'fast': 285.0, 'mult': 1.3}. Best is trial#71 with value: -0.002023423323469789.\n"
     ]
    },
    {
     "name": "stdout",
     "output_type": "stream",
     "text": [
      "take profits: 6 \n",
      "stopped out: 29 \n",
      "time breaches: 94 \n",
      "pos_ret: 21 \n",
      "neg_ret: 29\n"
     ]
    },
    {
     "name": "stderr",
     "output_type": "stream",
     "text": [
      "[I 2020-08-08 21:18:15,585] Finished trial#83 with value: -0.18758734735195592 with parameters: {'slow': 4080.0, 'fast': 300.0, 'mult': 1.3}. Best is trial#71 with value: -0.002023423323469789.\n"
     ]
    },
    {
     "name": "stdout",
     "output_type": "stream",
     "text": [
      "take profits: 7 \n",
      "stopped out: 31 \n",
      "time breaches: 100 \n",
      "pos_ret: 23 \n",
      "neg_ret: 31\n"
     ]
    },
    {
     "name": "stderr",
     "output_type": "stream",
     "text": [
      "[I 2020-08-08 21:18:16,900] Finished trial#84 with value: -0.15651383764132565 with parameters: {'slow': 3840.0, 'fast': 330.0, 'mult': 1.3}. Best is trial#71 with value: -0.002023423323469789.\n"
     ]
    },
    {
     "name": "stdout",
     "output_type": "stream",
     "text": [
      "take profits: 5 \n",
      "stopped out: 32 \n",
      "time breaches: 82 \n",
      "pos_ret: 16 \n",
      "neg_ret: 32\n"
     ]
    },
    {
     "name": "stderr",
     "output_type": "stream",
     "text": [
      "[I 2020-08-08 21:18:18,317] Finished trial#85 with value: -0.32657680680405826 with parameters: {'slow': 4320.0, 'fast': 315.0, 'mult': 1.4000000000000001}. Best is trial#71 with value: -0.002023423323469789.\n"
     ]
    },
    {
     "name": "stdout",
     "output_type": "stream",
     "text": [
      "take profits: 6 \n",
      "stopped out: 29 \n",
      "time breaches: 94 \n",
      "pos_ret: 21 \n",
      "neg_ret: 29\n"
     ]
    },
    {
     "name": "stderr",
     "output_type": "stream",
     "text": [
      "[I 2020-08-08 21:18:19,711] Finished trial#86 with value: -0.18758734735195592 with parameters: {'slow': 4080.0, 'fast': 300.0, 'mult': 1.3}. Best is trial#71 with value: -0.002023423323469789.\n"
     ]
    },
    {
     "name": "stdout",
     "output_type": "stream",
     "text": [
      "take profits: 6 \n",
      "stopped out: 84 \n",
      "time breaches: 285 \n",
      "pos_ret: 68 \n",
      "neg_ret: 86\n"
     ]
    },
    {
     "name": "stderr",
     "output_type": "stream",
     "text": [
      "[I 2020-08-08 21:18:21,039] Finished trial#87 with value: -0.7433515557417787 with parameters: {'slow': 2640.0, 'fast': 60.0, 'mult': 1.3}. Best is trial#71 with value: -0.002023423323469789.\n"
     ]
    },
    {
     "name": "stdout",
     "output_type": "stream",
     "text": [
      "take profits: 3 \n",
      "stopped out: 31 \n",
      "time breaches: 90 \n",
      "pos_ret: 16 \n",
      "neg_ret: 31\n"
     ]
    },
    {
     "name": "stderr",
     "output_type": "stream",
     "text": [
      "[I 2020-08-08 21:18:22,297] Finished trial#88 with value: -0.4032716721351266 with parameters: {'slow': 4320.0, 'fast': 270.0, 'mult': 1.4000000000000001}. Best is trial#71 with value: -0.002023423323469789.\n"
     ]
    },
    {
     "name": "stdout",
     "output_type": "stream",
     "text": [
      "take profits: 6 \n",
      "stopped out: 25 \n",
      "time breaches: 91 \n",
      "pos_ret: 22 \n",
      "neg_ret: 25\n"
     ]
    },
    {
     "name": "stderr",
     "output_type": "stream",
     "text": [
      "[I 2020-08-08 21:18:23,606] Finished trial#89 with value: -0.07311899470257147 with parameters: {'slow': 4080.0, 'fast': 345.0, 'mult': 1.3}. Best is trial#71 with value: -0.002023423323469789.\n"
     ]
    },
    {
     "name": "stdout",
     "output_type": "stream",
     "text": [
      "take profits: 3 \n",
      "stopped out: 29 \n",
      "time breaches: 81 \n",
      "pos_ret: 16 \n",
      "neg_ret: 29\n"
     ]
    },
    {
     "name": "stderr",
     "output_type": "stream",
     "text": [
      "[I 2020-08-08 21:18:25,034] Finished trial#90 with value: -0.33994909210166374 with parameters: {'slow': 3840.0, 'fast': 345.0, 'mult': 1.4000000000000001}. Best is trial#71 with value: -0.002023423323469789.\n"
     ]
    },
    {
     "name": "stdout",
     "output_type": "stream",
     "text": [
      "take profits: 9 \n",
      "stopped out: 27 \n",
      "time breaches: 91 \n",
      "pos_ret: 25 \n",
      "neg_ret: 27\n"
     ]
    },
    {
     "name": "stderr",
     "output_type": "stream",
     "text": [
      "[I 2020-08-08 21:18:26,469] Finished trial#91 with value: -0.002023423323469789 with parameters: {'slow': 4080.0, 'fast': 330.0, 'mult': 1.3}. Best is trial#71 with value: -0.002023423323469789.\n"
     ]
    },
    {
     "name": "stdout",
     "output_type": "stream",
     "text": [
      "take profits: 9 \n",
      "stopped out: 27 \n",
      "time breaches: 91 \n",
      "pos_ret: 25 \n",
      "neg_ret: 27\n"
     ]
    },
    {
     "name": "stderr",
     "output_type": "stream",
     "text": [
      "[I 2020-08-08 21:18:27,819] Finished trial#92 with value: -0.002023423323469789 with parameters: {'slow': 4080.0, 'fast': 330.0, 'mult': 1.3}. Best is trial#71 with value: -0.002023423323469789.\n"
     ]
    },
    {
     "name": "stdout",
     "output_type": "stream",
     "text": [
      "take profits: 9 \n",
      "stopped out: 27 \n",
      "time breaches: 91 \n",
      "pos_ret: 25 \n",
      "neg_ret: 27\n"
     ]
    },
    {
     "name": "stderr",
     "output_type": "stream",
     "text": [
      "[I 2020-08-08 21:18:29,188] Finished trial#93 with value: -0.002023423323469789 with parameters: {'slow': 4080.0, 'fast': 330.0, 'mult': 1.3}. Best is trial#71 with value: -0.002023423323469789.\n"
     ]
    },
    {
     "name": "stdout",
     "output_type": "stream",
     "text": [
      "take profits: 9 \n",
      "stopped out: 27 \n",
      "time breaches: 91 \n",
      "pos_ret: 25 \n",
      "neg_ret: 27\n"
     ]
    },
    {
     "name": "stderr",
     "output_type": "stream",
     "text": [
      "[I 2020-08-08 21:18:30,492] Finished trial#94 with value: -0.002023423323469789 with parameters: {'slow': 4080.0, 'fast': 330.0, 'mult': 1.3}. Best is trial#71 with value: -0.002023423323469789.\n"
     ]
    },
    {
     "name": "stdout",
     "output_type": "stream",
     "text": [
      "take profits: 7 \n",
      "stopped out: 31 \n",
      "time breaches: 100 \n",
      "pos_ret: 23 \n",
      "neg_ret: 31\n"
     ]
    },
    {
     "name": "stderr",
     "output_type": "stream",
     "text": [
      "[I 2020-08-08 21:18:31,799] Finished trial#95 with value: -0.15651383764132565 with parameters: {'slow': 3840.0, 'fast': 330.0, 'mult': 1.3}. Best is trial#71 with value: -0.002023423323469789.\n"
     ]
    },
    {
     "name": "stdout",
     "output_type": "stream",
     "text": [
      "take profits: 4 \n",
      "stopped out: 26 \n",
      "time breaches: 79 \n",
      "pos_ret: 14 \n",
      "neg_ret: 27\n"
     ]
    },
    {
     "name": "stderr",
     "output_type": "stream",
     "text": [
      "[I 2020-08-08 21:18:33,138] Finished trial#96 with value: -0.2571103762460326 with parameters: {'slow': 4080.0, 'fast': 330.0, 'mult': 1.4000000000000001}. Best is trial#71 with value: -0.002023423323469789.\n"
     ]
    },
    {
     "name": "stdout",
     "output_type": "stream",
     "text": [
      "take profits: 7 \n",
      "stopped out: 31 \n",
      "time breaches: 98 \n",
      "pos_ret: 23 \n",
      "neg_ret: 31\n"
     ]
    },
    {
     "name": "stderr",
     "output_type": "stream",
     "text": [
      "[I 2020-08-08 21:18:34,494] Finished trial#97 with value: -0.16004334206292659 with parameters: {'slow': 3840.0, 'fast': 345.0, 'mult': 1.3}. Best is trial#71 with value: -0.002023423323469789.\n"
     ]
    },
    {
     "name": "stdout",
     "output_type": "stream",
     "text": [
      "take profits: 5 \n",
      "stopped out: 26 \n",
      "time breaches: 80 \n",
      "pos_ret: 17 \n",
      "neg_ret: 26\n"
     ]
    },
    {
     "name": "stderr",
     "output_type": "stream",
     "text": [
      "[I 2020-08-08 21:18:35,881] Finished trial#98 with value: -0.2262135010346218 with parameters: {'slow': 4080.0, 'fast': 315.0, 'mult': 1.4000000000000001}. Best is trial#71 with value: -0.002023423323469789.\n"
     ]
    },
    {
     "name": "stdout",
     "output_type": "stream",
     "text": [
      "take profits: 1 \n",
      "stopped out: 24 \n",
      "time breaches: 40 \n",
      "pos_ret: 8 \n",
      "neg_ret: 24\n"
     ]
    },
    {
     "name": "stderr",
     "output_type": "stream",
     "text": [
      "[I 2020-08-08 21:18:37,158] Finished trial#99 with value: -0.5035813391200848 with parameters: {'slow': 4080.0, 'fast': 330.0, 'mult': 2.2}. Best is trial#71 with value: -0.002023423323469789.\n"
     ]
    }
   ],
   "source": [
    "study.optimize(objective, n_trials=100)"
   ]
  },
  {
   "cell_type": "code",
   "execution_count": 29,
   "metadata": {},
   "outputs": [
    {
     "data": {
      "text/plain": [
       "{'slow': 4080.0, 'fast': 330.0, 'mult': 1.3}"
      ]
     },
     "execution_count": 29,
     "metadata": {},
     "output_type": "execute_result"
    }
   ],
   "source": [
    "study.best_params"
   ]
  },
  {
   "cell_type": "code",
   "execution_count": 33,
   "metadata": {},
   "outputs": [
    {
     "data": {
      "text/plain": [
       "-0.002023423323469789"
      ]
     },
     "execution_count": 33,
     "metadata": {},
     "output_type": "execute_result"
    }
   ],
   "source": [
    "study.best_value"
   ]
  },
  {
   "cell_type": "code",
   "execution_count": 37,
   "metadata": {},
   "outputs": [
    {
     "name": "stdout",
     "output_type": "stream",
     "text": [
      "take profits: 9 \n",
      "stopped out: 27 \n",
      "time breaches: 91 \n",
      "pos_ret: 25 \n",
      "neg_ret: 27\n"
     ]
    }
   ],
   "source": [
    "cumRet, pmdd = mean_reversion_strategy(df.loc['2019-02-15':'2019-08-15'].copy(), 4080, 330, 1.3)"
   ]
  },
  {
   "cell_type": "markdown",
   "metadata": {},
   "source": [
    "The performance looks promising. This is the overfitted performance, so it serves little purpose other than showing the merit of exploring this strategy further. \n",
    "\n",
    "The next step would be to run this strategy through a Walk-Forward Analysis or Combinatorial Purged Cross Validation process. This is not done here; please refer to those notebooks for more details. "
   ]
  },
  {
   "cell_type": "code",
   "execution_count": 38,
   "metadata": {},
   "outputs": [
    {
     "data": {
      "text/plain": [
       "<matplotlib.axes._subplots.AxesSubplot at 0x1a2e2b7150>"
      ]
     },
     "execution_count": 38,
     "metadata": {},
     "output_type": "execute_result"
    },
    {
     "data": {
      "image/png": "[encoded data removed]",
      "text/plain": [
       "<Figure size 432x288 with 1 Axes>"
      ]
     },
     "metadata": {
      "needs_background": "light"
     },
     "output_type": "display_data"
    }
   ],
   "source": [
    "cumRet.plot()"
   ]
  }
 ],
 "metadata": {
  "kernelspec": {
   "display_name": "Python 3",
   "language": "python",
   "name": "python3"
  },
  "language_info": {
   "codemirror_mode": {
    "name": "ipython",
    "version": 3
   },
   "file_extension": ".py",
   "mimetype": "text/x-python",
   "name": "python",
   "nbconvert_exporter": "python",
   "pygments_lexer": "ipython3",
   "version": "3.5.6"
  }
 },
 "nbformat": 4,
 "nbformat_minor": 4
}
