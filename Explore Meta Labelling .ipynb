{
 "cells": [
  {
   "cell_type": "markdown",
   "metadata": {},
   "source": [
    "#### About this repository:\n",
    "\n",
    "The notebooks in this repository are meant to serve as comprehensive building blocks for establishing an algorithmic trading system. \n",
    " \n",
    "A number of sample trading strategies are included, along with methodologies to determine their robustness. Walk-Forward Analysis is one such well known technique, while Combinatorial Purged Cross Validation is a newer and more  rigorous methodology. Another useful and important concept is Meta Labelling, which predicts the probability of individual winning trades. All three techniques are utilized here to help improve the rigor of the systematic trading research process. \n",
    "\n",
    "Even though the methodologies presented in these notebooks can always be fine-tuned further, they are sophisticated enough to provide rigorous backtesting of any algorithmic trading strategy. After looking through this repository, one should gain an understanding of how algorithmic trading startegies are programmed and backtested. Identifying such strategies can simply be a matter of adapting algorithms found in research journals or trading websites; the aim of these notebooks is to determine a strategy's profitability and robustness. The final step of live trading a strategy should be merely trivial rewriting of a few lines of code in the Zipline version of the strategy. \n",
    "\n",
    "\n",
    "*Hoa Tuan Nguyen:* http://linkedin.com/in/hoatuannguyen/"
   ]
  },
  {
   "cell_type": "markdown",
   "metadata": {},
   "source": [
    "## Meta Labelling \n",
    "\n",
    "This notebook seeks to explore the idea behind Meta Labelling. This methodology was discussed in Prado's Advances in Financial Machine Learning book. Please refer to chapter 3 in the book for more details. \n",
    "\n",
    "My Mixed Bollinger Strategy will again be used here to facilitate the exploration. More information about this strategy (and simpler version of the code) can be found in the Mixed Bollinger Strategy Explore notebook. \n",
    "\n",
    "The code for the strategy here is rather long, even though the strategy itself is not very complicated. However, this strategy has proven to be quite robust and profitable through the Combinatorial Purged Cross Validation process. It is thus interesting to see how Meta Labelling can help improve the performance further. Furthermore, getting this strategy to work with both CPCV and Meta Labelling will serve as important building blocks to repeat these processes with other strategies in the future. \n",
    "\n",
    "The idea behind Meta Labelling is basically to use a separate Machine Learning model to decide whether or not to take the bets yielded by the primary model. In this case, the Mixed Bollinger Strategy is the primary model and produces signals to go long or short. A Random Forest model will be trained to predict whether a signal will result in good or bad performance. The strategy will then be run on a test set and the trained RF model will decide for each trade signal whether it will be any good. Instead of helping to decide whether or not to take the bets, in this notebook the RF will only serve to decide the position size of a signal.\n",
    "\n",
    "To be more certain of the benefit, if any, of Meta Labelling to this strategy, this whole procedure should be put through CPCV. This will be not implemented here, but the steps should go as follows (refer to CPCV notebook for more details):\n",
    "1. Split the data into train sets and test sets according to the chosen number of groups and test sets\n",
    "2. Loop through the splits. For each split:\n",
    "    - First, optimize the strategy on the train set\n",
    "    - Then, train an ML model on the performance results of the signals in the train set\n",
    "    - Next, use the trained ML model and the optimized parameters to run the strategy through the test sets in this split\n",
    "    - Finally, assign the performance results of each test set to the corresponding path\n",
    "\n"
   ]
  },
  {
   "cell_type": "code",
   "execution_count": 1,
   "metadata": {},
   "outputs": [],
   "source": [
    "import numpy as np\n",
    "import pandas as pd\n",
    "import matplotlib.pyplot as plt"
   ]
  },
  {
   "cell_type": "code",
   "execution_count": 2,
   "metadata": {},
   "outputs": [],
   "source": [
    "# read in the data\n",
    "\n",
    "df = pd.read_csv('/Users/nguyentuanhoa/Downloads/Crypto/zipline/data/btc_2019_july20_2020.csv', \n",
    "                 index_col=0, parse_dates=True)"
   ]
  },
  {
   "cell_type": "code",
   "execution_count": 3,
   "metadata": {},
   "outputs": [
    {
     "data": {
      "text/html": [
       "<div>\n",
       "<style scoped>\n",
       "    .dataframe tbody tr th:only-of-type {\n",
       "        vertical-align: middle;\n",
       "    }\n",
       "\n",
       "    .dataframe tbody tr th {\n",
       "        vertical-align: top;\n",
       "    }\n",
       "\n",
       "    .dataframe thead th {\n",
       "        text-align: right;\n",
       "    }\n",
       "</style>\n",
       "<table border=\"1\" class=\"dataframe\">\n",
       "  <thead>\n",
       "    <tr style=\"text-align: right;\">\n",
       "      <th></th>\n",
       "      <th>close</th>\n",
       "      <th>high</th>\n",
       "      <th>low</th>\n",
       "      <th>open</th>\n",
       "      <th>volume</th>\n",
       "    </tr>\n",
       "  </thead>\n",
       "  <tbody>\n",
       "    <tr>\n",
       "      <th>2019-01-01 00:00:00</th>\n",
       "      <td>3694.5</td>\n",
       "      <td>3694.5</td>\n",
       "      <td>3693.0</td>\n",
       "      <td>3693.0</td>\n",
       "      <td>241.351087</td>\n",
       "    </tr>\n",
       "    <tr>\n",
       "      <th>2019-01-01 00:01:00</th>\n",
       "      <td>3690.5</td>\n",
       "      <td>3694.5</td>\n",
       "      <td>3690.5</td>\n",
       "      <td>3694.5</td>\n",
       "      <td>178.451678</td>\n",
       "    </tr>\n",
       "    <tr>\n",
       "      <th>2019-01-01 00:02:00</th>\n",
       "      <td>3690.5</td>\n",
       "      <td>3691.0</td>\n",
       "      <td>3690.5</td>\n",
       "      <td>3690.5</td>\n",
       "      <td>53.144116</td>\n",
       "    </tr>\n",
       "    <tr>\n",
       "      <th>2019-01-01 00:03:00</th>\n",
       "      <td>3690.0</td>\n",
       "      <td>3691.0</td>\n",
       "      <td>3690.0</td>\n",
       "      <td>3690.5</td>\n",
       "      <td>71.344447</td>\n",
       "    </tr>\n",
       "    <tr>\n",
       "      <th>2019-01-01 00:04:00</th>\n",
       "      <td>3688.5</td>\n",
       "      <td>3690.5</td>\n",
       "      <td>3688.5</td>\n",
       "      <td>3690.5</td>\n",
       "      <td>194.159810</td>\n",
       "    </tr>\n",
       "  </tbody>\n",
       "</table>\n",
       "</div>"
      ],
      "text/plain": [
       "                      close    high     low    open      volume\n",
       "2019-01-01 00:00:00  3694.5  3694.5  3693.0  3693.0  241.351087\n",
       "2019-01-01 00:01:00  3690.5  3694.5  3690.5  3694.5  178.451678\n",
       "2019-01-01 00:02:00  3690.5  3691.0  3690.5  3690.5   53.144116\n",
       "2019-01-01 00:03:00  3690.0  3691.0  3690.0  3690.5   71.344447\n",
       "2019-01-01 00:04:00  3688.5  3690.5  3688.5  3690.5  194.159810"
      ]
     },
     "execution_count": 3,
     "metadata": {},
     "output_type": "execute_result"
    }
   ],
   "source": [
    "df.head()"
   ]
  },
  {
   "cell_type": "code",
   "execution_count": 4,
   "metadata": {},
   "outputs": [],
   "source": [
    "# helper function to calculate Pessimistic Return on Margin from a cumulative return pandas series\n",
    "\n",
    "def PROM(cumRet):\n",
    "    trade_rets = cumRet-cumRet.shift(1).fillna(1)\n",
    "    win_trades = trade_rets[trade_rets>0]\n",
    "    lose_trades = trade_rets[trade_rets<0]\n",
    "    adj_wins = len(win_trades) - np.sqrt(len(win_trades))\n",
    "    adj_losses = len(lose_trades) + np.sqrt(len(lose_trades))\n",
    "    avg_win = win_trades.mean()\n",
    "    avg_lose = lose_trades.mean()\n",
    "    return avg_win*adj_wins+avg_lose*adj_losses"
   ]
  },
  {
   "cell_type": "code",
   "execution_count": 5,
   "metadata": {},
   "outputs": [],
   "source": [
    "# helper function that returns daily returns for non-continuous cummulative returns\n",
    "\n",
    "def dailyRet_noncont(cumRet):\n",
    "    cumRet = cumRet.resample('1T').mean().fillna(method='ffill')\n",
    "    return (cumRet.resample('1D').last()/cumRet.resample('1D').last().shift(1)-1).dropna()"
   ]
  },
  {
   "cell_type": "code",
   "execution_count": 6,
   "metadata": {},
   "outputs": [],
   "source": [
    "# my mixed Bollinger strategy\n",
    "# modified to work with non-continuous time series and to allow for Meta Labelling\n",
    "# expects a typical OHLCV data frame with time stamps for index\n",
    "# should work fine with minimum tweak on a dollar / volume bar data set\n",
    "\n",
    "def mixed_strategy_noncont_meta(data, s, f, m, p_t=.04, s_l=-.012, ml_model=None, ps=.7):\n",
    "    import empyrical \n",
    "    lower_breached = False\n",
    "    upper_breached = False\n",
    "    long_pos = False\n",
    "    short_pos = False\n",
    "    \n",
    "    can_close = False\n",
    "    sideways_on = False\n",
    "    trending_on = False  \n",
    "    \n",
    "    times_breaches = 0 # information to help debug\n",
    "    take_profit = 0    # help debug\n",
    "    stopped_out = 0    # help debug\n",
    "    pos_ret = 0   # help debug\n",
    "    neg_ret = 0   # help debug\n",
    "    filled_price = 0\n",
    "    PnL = 1\n",
    "    cumRet = []\n",
    "    one_sec = 60*10**9   # need to convert index timestamp to unix (see below)\n",
    "\n",
    "    slow = str(s)+'T' # parameter to optimize\n",
    "    fast = str(f)+'T' # parameter to optimize\n",
    "    mult_std = m # parameter to optimize\n",
    "    pt = p_t # can optimize if so choose\n",
    "    sl = s_l # can optimize if so choose\n",
    "    \n",
    "    # rolling function below has same effect as purging the data to avoid overlapped information in time series\n",
    "    # purging is important in cross validating time series data. See Cross Validation chapter in Advances in FinML\n",
    "    # cumRet returned by this function will thus have fewer data points than those from the original data input\n",
    "    # embargoing the data can further improve the robustness of this process (to be implemented)\n",
    "    data['sma_long'] = data.close.shift(1).rolling(slow, min_periods=s).mean()  # good for non-continuous data\n",
    "    data['std_long'] = data.close.shift(1).rolling(slow, min_periods=s).std()   # good for non-continuous data\n",
    "    data['sma_short'] = data.close.shift(1).rolling(fast, min_periods=f).mean() # good for non-continuous data\n",
    "\n",
    "    data['upper'] = data['sma_long'] + mult_std*data['std_long']\n",
    "    data['lower'] = data['sma_long'] - mult_std*data['std_long']\n",
    "    data.dropna(inplace=True)    # effectively purging data here\n",
    "    data.index = data.index.astype(int)   # convert time stamp index to unix\n",
    "    \n",
    "    # to keep track of trades closed due to data jumping from one test/train group to another disparate one\n",
    "    eop_close = 0         # help debug\n",
    "    eop_prct_change = 1   # help debug\n",
    "    jump = 0   # help debug\n",
    "    last = [data.index[0], 0]   # just need last to be a tuple/list to be compatible with below\n",
    "                                # when 'last' is assigned 'row'\n",
    "    \n",
    "    # added for Meta Labelling \n",
    "    # to be filled as we loop through the data and to be merged into the final data frame at the end\n",
    "    signal = np.zeros(data.shape[0], int)\n",
    "    index = 0\n",
    "    if ml_model is not None:\n",
    "        cumRet_meta = []\n",
    "        PnL_meta = 1\n",
    "        pos_size = 1\n",
    "    \n",
    "    # loop through every minute in our time series\n",
    "    for row in data.itertuples(index=True):\n",
    "        current_price = row.close\n",
    "        upper = row.upper\n",
    "        lower = row.lower\n",
    "        slow_mva = row.sma_long\n",
    "        fast_mva = row.sma_short\n",
    "        has_pos = long_pos + short_pos\n",
    "        \n",
    "        # deal with positions from previous non-contiguous group\n",
    "        if has_pos and row[0] - last[0] > one_sec: \n",
    "            if long_pos:\n",
    "                prct_changed = (last.close - filled_price) / filled_price\n",
    "            else:\n",
    "                prct_changed = (filled_price - last.close) / filled_price\n",
    "            jump += 1        # to help debug\n",
    "            eop_close += 1   # to help debug\n",
    "            eop_prct_change *= (1+prct_changed)   # to help debug\n",
    "            PnL *= (1+prct_changed)\n",
    "            if ml_model is not None:\n",
    "                PnL_meta *= (1+prct_changed*pos_size)    # added for Meta Labelling\n",
    "            if prct_changed > 0:\n",
    "                pos_ret += 1\n",
    "            else:\n",
    "                neg_ret += 1           \n",
    "            long_pos = False\n",
    "            short_pos = False\n",
    "            trending_on = False\n",
    "            sideways_on = False\n",
    "            can_close = False\n",
    "            lower_breached = False\n",
    "            upper_breached = False                         \n",
    "        elif row[0] - last[0] > one_sec:\n",
    "            jump += 1    # to help debug\n",
    "        \n",
    "        # put on trending trades with some slippage/limit incorporated\n",
    "        if fast_mva >= upper and not upper_breached and not has_pos and current_price <= fast_mva*1.005:\n",
    "            filled_price = current_price\n",
    "            long_pos = True\n",
    "            upper_breached = True\n",
    "            trending_on = True\n",
    "            times_breaches += 1                       \n",
    "            signal[index] = 1    # added for Meta Labelling \n",
    "            if ml_model is not None:   # added for Meta Labelling \n",
    "                x_test = pd.Series(row[1:], index=data.columns, name=row[0])\n",
    "                x_test['pos_sig'] = 1 if signal[index] == 1 else 0\n",
    "                x_test['neg_sig'] = 1 if signal[index] == -1 else 0\n",
    "                pred = ml_model.predict_proba(x_test.to_numpy().reshape(1,-1))[0,1]\n",
    "                pos_size = 1 if pred >= .5 else ps               \n",
    "        elif fast_mva <= lower and not lower_breached and not has_pos and current_price >= fast_mva*0.995:\n",
    "            filled_price = current_price\n",
    "            short_pos = True\n",
    "            lower_breached = True\n",
    "            trending_on = True\n",
    "            times_breaches += 1\n",
    "            signal[index] = -1    # added for Meta Labelling \n",
    "            if ml_model is not None:   # added for Meta Labelling \n",
    "                x_test = pd.Series(row[1:], index=data.columns, name=row[0])\n",
    "                x_test['pos_sig'] = 1 if signal[index] == 1 else 0\n",
    "                x_test['neg_sig'] = 1 if signal[index] == -1 else 0\n",
    "                pred = ml_model.predict_proba(x_test.to_numpy().reshape(1,-1))[0,1]\n",
    "                pos_size = 1 if pred >= .5 else ps\n",
    "\n",
    "        # put on sideways trades with some slippage/limit incorporated\n",
    "        elif not has_pos and lower_breached and fast_mva >= lower and current_price <= fast_mva*1.005:\n",
    "            filled_price = current_price\n",
    "            long_pos = True\n",
    "            lower_breached = False\n",
    "            sideways_on = True\n",
    "            signal[index] = 1    # added for Meta Labelling \n",
    "            if ml_model is not None:   # added for Meta Labelling \n",
    "                x_test = pd.Series(row[1:], index=data.columns, name=row[0])\n",
    "                x_test['pos_sig'] = 1 if signal[index] == 1 else 0\n",
    "                x_test['neg_sig'] = 1 if signal[index] == -1 else 0\n",
    "                pred = ml_model.predict_proba(x_test.to_numpy().reshape(1,-1))[0,1]\n",
    "                pos_size = 1 if pred >= .5 else ps\n",
    "        elif not has_pos and upper_breached and fast_mva <= upper and current_price >= fast_mva*0.995:\n",
    "            filled_price = current_price\n",
    "            short_pos = True\n",
    "            upper_breached = False\n",
    "            sideways_on = True\n",
    "            signal[index] = -1    # added for Meta Labelling \n",
    "            if ml_model is not None:   # added for Meta Labelling \n",
    "                x_test = pd.Series(row[1:], index=data.columns, name=row[0])\n",
    "                x_test['pos_sig'] = 1 if signal[index] == 1 else 0\n",
    "                x_test['neg_sig'] = 1 if signal[index] == -1 else 0\n",
    "                pred = ml_model.predict_proba(x_test.to_numpy().reshape(1,-1))[0,1]\n",
    "                pos_size = 1 if pred >= .5 else ps\n",
    "        \n",
    "        # take profits or stop loss on short trending trade\n",
    "        elif trending_on and short_pos:\n",
    "            prct_changed = (filled_price - current_price) / filled_price\n",
    "            if not can_close and abs(prct_changed) >= .01:\n",
    "                can_close = True\n",
    "            if fast_mva >= lower and can_close:\n",
    "                short_pos = False\n",
    "                PnL *= (1+prct_changed)\n",
    "                if ml_model is not None:\n",
    "                    PnL_meta *= (1+prct_changed*pos_size)    # added for Meta Labelling\n",
    "                lower_breached = False\n",
    "                can_close = False\n",
    "                trending_on = False\n",
    "                if prct_changed > 0:\n",
    "                    pos_ret += 1\n",
    "                else:\n",
    "                    neg_ret += 1\n",
    "            elif prct_changed >= pt*1.75:\n",
    "                short_pos = False\n",
    "                PnL *= (1+prct_changed)\n",
    "                if ml_model is not None:\n",
    "                    PnL_meta *= (1+prct_changed*pos_size)    # added for Meta Labelling\n",
    "                take_profit += 1\n",
    "                pos_ret += 1\n",
    "                can_close = False\n",
    "                trending_on = False\n",
    "            elif prct_changed <= sl*1.5:\n",
    "                short_pos = False\n",
    "                PnL *= (1+prct_changed)\n",
    "                if ml_model is not None:\n",
    "                    PnL_meta *= (1+prct_changed*pos_size)    # added for Meta Labelling\n",
    "                stopped_out += 1\n",
    "                neg_ret += 1\n",
    "                can_close = False\n",
    "                trending_on = False\n",
    "\n",
    "        # take profits or stop loss on long trending trade\n",
    "        elif trending_on and long_pos:\n",
    "            prct_changed = (current_price - filled_price) / filled_price\n",
    "            if not can_close and prct_changed >= .01:\n",
    "                can_close = True\n",
    "            if fast_mva <= upper and can_close:\n",
    "                long_pos = False\n",
    "                PnL *= (1+prct_changed)\n",
    "                if ml_model is not None:\n",
    "                    PnL_meta *= (1+prct_changed*pos_size)    # added for Meta Labelling\n",
    "                upper_breached = False\n",
    "                can_close = False\n",
    "                trending_on = False\n",
    "                if prct_changed > 0:\n",
    "                    pos_ret += 1\n",
    "                else:\n",
    "                    neg_ret += 1\n",
    "            elif prct_changed >= pt*1.75:\n",
    "                long_pos = False\n",
    "                PnL *= (1+prct_changed)\n",
    "                if ml_model is not None:\n",
    "                    PnL_meta *= (1+prct_changed*pos_size)    # added for Meta Labelling\n",
    "                take_profit += 1\n",
    "                pos_ret += 1\n",
    "                can_close = False\n",
    "                trending_on = False\n",
    "            elif prct_changed <= sl*1.5:\n",
    "                long_pos = False\n",
    "                PnL *= (1+prct_changed)\n",
    "                if ml_model is not None:\n",
    "                    PnL_meta *= (1+prct_changed*pos_size)    # added for Meta Labelling\n",
    "                stopped_out += 1\n",
    "                neg_ret += 1\n",
    "                can_close = False\n",
    "                trending_on = False\n",
    "                    \n",
    "        # take off short sideways trade\n",
    "        elif sideways_on and short_pos:\n",
    "            prct_changed = (filled_price - current_price) / filled_price\n",
    "            if fast_mva <= slow_mva:\n",
    "                short_pos = False\n",
    "                PnL *= (1+prct_changed)\n",
    "                if ml_model is not None:\n",
    "                    PnL_meta *= (1+prct_changed*pos_size)    # added for Meta Labelling\n",
    "                sideways_on = False\n",
    "                if prct_changed > 0:\n",
    "                    pos_ret += 1\n",
    "                else:\n",
    "                    neg_ret += 1\n",
    "            elif prct_changed >= pt:\n",
    "                short_pos = False\n",
    "                PnL *= (1+prct_changed)\n",
    "                if ml_model is not None:\n",
    "                    PnL_meta *= (1+prct_changed*pos_size)    # added for Meta Labelling\n",
    "                sideways_on = False\n",
    "                take_profit += 1\n",
    "                pos_ret += 1\n",
    "            elif prct_changed <= sl:\n",
    "                short_pos = False\n",
    "                PnL *= (1+prct_changed)\n",
    "                if ml_model is not None:\n",
    "                    PnL_meta *= (1+prct_changed*pos_size)    # added for Meta Labelling\n",
    "                sideways_on = False\n",
    "                stopped_out += 1\n",
    "                neg_ret += 1\n",
    "\n",
    "        # take off long sideways trade\n",
    "        elif sideways_on and long_pos:\n",
    "            prct_changed = (current_price - filled_price) / filled_price\n",
    "            if fast_mva >= slow_mva:\n",
    "                long_pos = False\n",
    "                PnL *= (1+prct_changed)\n",
    "                if ml_model is not None:\n",
    "                    PnL_meta *= (1+prct_changed*pos_size)    # added for Meta Labelling\n",
    "                sideways_on = False\n",
    "                if prct_changed > 0:\n",
    "                    pos_ret += 1\n",
    "                else:\n",
    "                    neg_ret += 1\n",
    "            elif prct_changed >= pt:\n",
    "                long_pos = False\n",
    "                PnL *= (1+prct_changed)\n",
    "                if ml_model is not None:\n",
    "                    PnL_meta *= (1+prct_changed*pos_size)    # added for Meta Labelling\n",
    "                sideways_on = False\n",
    "                take_profit += 1\n",
    "                pos_ret += 1\n",
    "            elif prct_changed <= sl:\n",
    "                long_pos = False\n",
    "                PnL *= (1+prct_changed)\n",
    "                if ml_model is not None:\n",
    "                    PnL_meta *= (1+prct_changed*pos_size)    # added for Meta Labelling\n",
    "                sideways_on = False\n",
    "                stopped_out += 1\n",
    "                neg_ret += 1\n",
    "        \n",
    "        # reset bands breached flags if price within range\n",
    "        elif fast_mva > lower and fast_mva < upper and upper_breached+lower_breached:\n",
    "            lower_breached = False\n",
    "            upper_breached = False\n",
    "            \n",
    "        last = row \n",
    "        index += 1   # added for Meta Labelling                    \n",
    "        cumRet.append(PnL)\n",
    "        if ml_model is not None:   # added for Meta Labelling \n",
    "            cumRet_meta.append(PnL_meta)\n",
    "    \n",
    "    # deal with any position left open at the end of the time series by closing it out \n",
    "    if has_pos:\n",
    "        if long_pos:\n",
    "            prct_changed = (last.close - filled_price) / filled_price\n",
    "        else:\n",
    "            prct_changed = (filled_price - last.close) / filled_price\n",
    "        PnL *= (1+prct_changed)\n",
    "        cumRet[-1] = PnL\n",
    "        if ml_model is not None:    # added for Meta Labelling\n",
    "            PnL_meta *= (1+prct_changed*pos_size)    \n",
    "            cumRet_meta[-1] = PnL_meta\n",
    "        if prct_changed > 0:\n",
    "            pos_ret += 1\n",
    "        else:\n",
    "            neg_ret += 1                                   \n",
    "    \n",
    "    data['signal'] = signal    # added for Meta Labelling\n",
    "    cumRet = pd.Series(cumRet, index=pd.to_datetime(data.index)) \n",
    "    if ml_model is not None:   # added for Meta Labelling\n",
    "        cumRet_meta = pd.Series(cumRet_meta, index=pd.to_datetime(data.index)) \n",
    "    print('take profits:',take_profit, '    stopped out:', stopped_out, '    time breaches:', times_breaches,\n",
    "            '\\npos_ret:', pos_ret, '    neg_ret:', neg_ret, '\\neop_closes:', \n",
    "            eop_close, '    eop_prct_change', eop_prct_change, '    jump:', jump, '\\n')        \n",
    "    \n",
    "    # return cummulative returns and sum of Pessimistic Return on Margin and Maximum Drawdown\n",
    "    # if a machine learning model is given and used, will also return the performance of the strategy\n",
    "    # with the help of Meta Labelling\n",
    "    if ml_model is None:\n",
    "        return cumRet, PROM(cumRet)+empyrical.max_drawdown(dailyRet_noncont(cumRet))\n",
    "    else:   \n",
    "        return (cumRet, PROM(cumRet)+empyrical.max_drawdown(dailyRet_noncont(cumRet)), \n",
    "            cumRet_meta, PROM(cumRet_meta)+empyrical.max_drawdown(dailyRet_noncont(cumRet_meta)))\n"
   ]
  },
  {
   "cell_type": "markdown",
   "metadata": {},
   "source": [
    "### Adding features\n",
    "\n",
    "Features are added to the data frame to help the chosen Machine Learning model predict performances of trading signals. \n",
    "\n",
    "Since volume has proven to be a decent signal for BTC performance, a number of volume-related features are added here. A couple of technical indicators are also added, as well as the cumulative returns over different time windows over time. \n",
    "\n",
    "Since this is a brief exploration of Meta Labelling, not much thought can be afforded to pick out good features. This notebook is intended to sort through the steps involved in implementing this methodology. It should be easy to come back and improve this step when there is time. "
   ]
  },
  {
   "cell_type": "code",
   "execution_count": 7,
   "metadata": {},
   "outputs": [],
   "source": [
    "import talib as ta"
   ]
  },
  {
   "cell_type": "code",
   "execution_count": 8,
   "metadata": {},
   "outputs": [],
   "source": [
    "data = df.copy()"
   ]
  },
  {
   "cell_type": "code",
   "execution_count": 9,
   "metadata": {},
   "outputs": [],
   "source": [
    "data['vol_sma240'] = data.volume.shift(1).rolling(240).mean()\n",
    "data['vol_sma720'] = data.volume.shift(1).rolling(720).mean()\n",
    "data['vol_sma1440'] = data.volume.shift(1).rolling(1440).mean()\n",
    "data['vol_std240'] = data.volume.shift(1).rolling(240).std()\n",
    "data['vol_std720'] = data.volume.shift(1).rolling(720).std()\n",
    "data['vol_std1440'] = data.volume.shift(1).rolling(1440).std()"
   ]
  },
  {
   "cell_type": "code",
   "execution_count": 10,
   "metadata": {},
   "outputs": [],
   "source": [
    "data['adx60'] = ta.ADX(np.array(data.high.shift(1)), np.array(data.low.shift(1)),\n",
    "                    np.array(data.close.shift(1)), timeperiod=60)\n",
    "data['adx120'] = ta.ADX(np.array(data.high.shift(1)), np.array(data.low.shift(1)),\n",
    "                    np.array(data.close.shift(1)), timeperiod=120)"
   ]
  },
  {
   "cell_type": "code",
   "execution_count": 11,
   "metadata": {},
   "outputs": [],
   "source": [
    "data['rsi30'] = ta.RSI(np.array(data.close.shift(1)),timeperiod=30)"
   ]
  },
  {
   "cell_type": "code",
   "execution_count": 12,
   "metadata": {},
   "outputs": [],
   "source": [
    "# helper function that returns the cumulative returns over a chosen window for prices over time\n",
    "# and whether these returns are over or under the upper / lower barrier\n",
    "\n",
    "def CR(data,window_cum,upper,lower):\n",
    "    df=data.copy()\n",
    "    df['cum_ret']=1+df['close'].pct_change(periods=window_cum)\n",
    "    df['CR']=np.where(((df['cum_ret']>=lower) & (df['cum_ret']<=upper)),0,1)\n",
    "    cr=df[['cum_ret','CR']]\n",
    "    return cr"
   ]
  },
  {
   "cell_type": "code",
   "execution_count": 13,
   "metadata": {},
   "outputs": [],
   "source": [
    "data['cr1440'] = CR(data, 1440, 1.06, 1.01)['cum_ret']-1\n",
    "data['cr2880'] = CR(data, 2880, 1.06, 1.01)['cum_ret']-1"
   ]
  },
  {
   "cell_type": "code",
   "execution_count": 14,
   "metadata": {},
   "outputs": [
    {
     "data": {
      "text/plain": [
       "(815504, 16)"
      ]
     },
     "execution_count": 14,
     "metadata": {},
     "output_type": "execute_result"
    }
   ],
   "source": [
    "data.shape"
   ]
  },
  {
   "cell_type": "code",
   "execution_count": 15,
   "metadata": {},
   "outputs": [],
   "source": [
    "# create the train set\n",
    "\n",
    "df2 = data.loc[:'2019-12-31'].copy()"
   ]
  },
  {
   "cell_type": "code",
   "execution_count": 16,
   "metadata": {},
   "outputs": [
    {
     "name": "stderr",
     "output_type": "stream",
     "text": [
      "/anaconda3/lib/python3.7/site-packages/pandas_datareader/compat/__init__.py:7: FutureWarning: pandas.util.testing is deprecated. Use the functions in the public API at pandas.testing instead.\n",
      "  from pandas.util.testing import assert_frame_equal\n"
     ]
    },
    {
     "name": "stdout",
     "output_type": "stream",
     "text": [
      "take profits: 13     stopped out: 42     time breaches: 127 \n",
      "pos_ret: 62     neg_ret: 76 \n",
      "eop_closes: 0     eop_prct_change 1     jump: 0 \n",
      "\n"
     ]
    }
   ],
   "source": [
    "# run the strategy on the train set to add a few more features to the data \n",
    "# and also to get signals' performances for the Machine Learning model to train on\n",
    "\n",
    "cumRet, pmdd = mixed_strategy_noncont_meta(df2, 5400, 270, 1.75)\n",
    "df2.index = pd.to_datetime(df2.index)"
   ]
  },
  {
   "cell_type": "code",
   "execution_count": 17,
   "metadata": {},
   "outputs": [],
   "source": [
    "rets = cumRet/cumRet.shift(1).fillna(1)-1\n",
    "rets = rets[rets!=0]\n",
    "rets = pd.Series(rets.to_numpy(),index=df2.signal[df2.signal!=0].index)"
   ]
  },
  {
   "cell_type": "code",
   "execution_count": 18,
   "metadata": {},
   "outputs": [],
   "source": [
    "df2['returns'] = rets"
   ]
  },
  {
   "cell_type": "code",
   "execution_count": 19,
   "metadata": {},
   "outputs": [],
   "source": [
    "# can change the threshold here to see if the ML model can predict better\n",
    "# though for now, this seems to be the best threshold\n",
    "\n",
    "df2['good_rets'] = np.where(df2.returns>0, 1, -1)"
   ]
  },
  {
   "cell_type": "markdown",
   "metadata": {},
   "source": [
    "### Train a RF on Meta Labels"
   ]
  },
  {
   "cell_type": "code",
   "execution_count": 20,
   "metadata": {},
   "outputs": [],
   "source": [
    "X_train = df2.loc[:, 'close':'signal'][df2.signal!=0].copy()\n",
    "Y_train = df2['good_rets'][df2.signal!=0]"
   ]
  },
  {
   "cell_type": "code",
   "execution_count": 21,
   "metadata": {
    "collapsed": true
   },
   "outputs": [
    {
     "name": "stderr",
     "output_type": "stream",
     "text": [
      "/anaconda3/lib/python3.7/site-packages/ipykernel_launcher.py:2: SettingWithCopyWarning: \n",
      "A value is trying to be set on a copy of a slice from a DataFrame\n",
      "\n",
      "See the caveats in the documentation: https://pandas.pydata.org/pandas-docs/stable/user_guide/indexing.html#returning-a-view-versus-a-copy\n",
      "  \n",
      "/anaconda3/lib/python3.7/site-packages/ipykernel_launcher.py:4: SettingWithCopyWarning: \n",
      "A value is trying to be set on a copy of a slice from a DataFrame\n",
      "\n",
      "See the caveats in the documentation: https://pandas.pydata.org/pandas-docs/stable/user_guide/indexing.html#returning-a-view-versus-a-copy\n",
      "  after removing the cwd from sys.path.\n"
     ]
    }
   ],
   "source": [
    "X_train['pos_sig'] = 0\n",
    "X_train['pos_sig'][X_train.signal==1] = 1\n",
    "X_train['neg_sig'] = 0\n",
    "X_train['neg_sig'][X_train.signal==-1] = 1\n",
    "X_train = X_train.drop('signal', axis=1)"
   ]
  },
  {
   "cell_type": "code",
   "execution_count": 22,
   "metadata": {},
   "outputs": [],
   "source": [
    "from sklearn.ensemble import RandomForestClassifier"
   ]
  },
  {
   "cell_type": "code",
   "execution_count": 23,
   "metadata": {},
   "outputs": [],
   "source": [
    "fit_rfc = RandomForestClassifier(n_estimators=500, oob_score=True, random_state=1).fit(X_train, Y_train)"
   ]
  },
  {
   "cell_type": "code",
   "execution_count": 24,
   "metadata": {},
   "outputs": [
    {
     "data": {
      "text/plain": [
       "0.4927536231884058"
      ]
     },
     "execution_count": 24,
     "metadata": {},
     "output_type": "execute_result"
    }
   ],
   "source": [
    "fit_rfc.oob_score_"
   ]
  },
  {
   "cell_type": "code",
   "execution_count": 25,
   "metadata": {},
   "outputs": [
    {
     "data": {
      "text/plain": [
       "<BarContainer object of 23 artists>"
      ]
     },
     "execution_count": 25,
     "metadata": {},
     "output_type": "execute_result"
    },
    {
     "data": {
      "image/png": "[encoded data removed]",
      "text/plain": [
       "<Figure size 432x288 with 1 Axes>"
      ]
     },
     "metadata": {
      "needs_background": "light"
     },
     "output_type": "display_data"
    }
   ],
   "source": [
    "plt.barh(X_train.columns, fit_rfc.feature_importances_)"
   ]
  },
  {
   "cell_type": "markdown",
   "metadata": {},
   "source": [
    "### Test the RF \n",
    "\n",
    "Check the performance of the trained RF on the signals generated on the test set. "
   ]
  },
  {
   "cell_type": "code",
   "execution_count": 26,
   "metadata": {},
   "outputs": [],
   "source": [
    "df3 = data.loc['2020-01-01':].copy()"
   ]
  },
  {
   "cell_type": "code",
   "execution_count": 27,
   "metadata": {
    "scrolled": true
   },
   "outputs": [
    {
     "name": "stdout",
     "output_type": "stream",
     "text": [
      "take profits: 6     stopped out: 26     time breaches: 67 \n",
      "pos_ret: 31     neg_ret: 41 \n",
      "eop_closes: 0     eop_prct_change 1     jump: 0 \n",
      "\n"
     ]
    }
   ],
   "source": [
    "cumRet, pmdd = mixed_strategy_noncont_meta(df3, 5400, 270, 1.75)\n",
    "df3.index = pd.to_datetime(df3.index)"
   ]
  },
  {
   "cell_type": "code",
   "execution_count": 28,
   "metadata": {},
   "outputs": [],
   "source": [
    "rets = cumRet/cumRet.shift(1).fillna(1)-1\n",
    "rets = rets[rets!=0]\n",
    "rets = pd.Series(rets.to_numpy(),index=df3.signal[df3.signal!=0].index)"
   ]
  },
  {
   "cell_type": "code",
   "execution_count": 29,
   "metadata": {},
   "outputs": [],
   "source": [
    "df3['returns'] = rets"
   ]
  },
  {
   "cell_type": "code",
   "execution_count": 30,
   "metadata": {},
   "outputs": [],
   "source": [
    "df3['good_rets'] = np.where(df3.returns>=.01, 1, -1)"
   ]
  },
  {
   "cell_type": "code",
   "execution_count": 31,
   "metadata": {},
   "outputs": [],
   "source": [
    "X_test = df3.loc[:, 'close':'signal'][df3.signal!=0]\n",
    "Y_test = df3['good_rets'][df3.signal!=0]"
   ]
  },
  {
   "cell_type": "code",
   "execution_count": 32,
   "metadata": {
    "collapsed": true
   },
   "outputs": [
    {
     "name": "stderr",
     "output_type": "stream",
     "text": [
      "/anaconda3/lib/python3.7/site-packages/ipykernel_launcher.py:2: SettingWithCopyWarning: \n",
      "A value is trying to be set on a copy of a slice from a DataFrame\n",
      "\n",
      "See the caveats in the documentation: https://pandas.pydata.org/pandas-docs/stable/user_guide/indexing.html#returning-a-view-versus-a-copy\n",
      "  \n",
      "/anaconda3/lib/python3.7/site-packages/ipykernel_launcher.py:4: SettingWithCopyWarning: \n",
      "A value is trying to be set on a copy of a slice from a DataFrame\n",
      "\n",
      "See the caveats in the documentation: https://pandas.pydata.org/pandas-docs/stable/user_guide/indexing.html#returning-a-view-versus-a-copy\n",
      "  after removing the cwd from sys.path.\n"
     ]
    }
   ],
   "source": [
    "X_test['pos_sig'] = 0\n",
    "X_test['pos_sig'][X_test.signal==1] = 1\n",
    "X_test['neg_sig'] = 0\n",
    "X_test['neg_sig'][X_test.signal==-1] = 1\n",
    "X_test = X_test.drop('signal', axis=1)"
   ]
  },
  {
   "cell_type": "code",
   "execution_count": 33,
   "metadata": {},
   "outputs": [],
   "source": [
    "yhat_rfc = fit_rfc.predict(X_test)\n",
    "yprob_rfc = fit_rfc.predict_proba(X_test)[:,1]"
   ]
  },
  {
   "cell_type": "code",
   "execution_count": 34,
   "metadata": {},
   "outputs": [
    {
     "data": {
      "text/plain": [
       "0.4166666666666667"
      ]
     },
     "execution_count": 34,
     "metadata": {},
     "output_type": "execute_result"
    }
   ],
   "source": [
    "np.mean(yhat_rfc != Y_test)"
   ]
  },
  {
   "cell_type": "code",
   "execution_count": 35,
   "metadata": {},
   "outputs": [
    {
     "data": {
      "text/plain": [
       "array([-1,  1])"
      ]
     },
     "execution_count": 35,
     "metadata": {},
     "output_type": "execute_result"
    }
   ],
   "source": [
    "fit_rfc.classes_"
   ]
  },
  {
   "cell_type": "code",
   "execution_count": 36,
   "metadata": {},
   "outputs": [
    {
     "data": {
      "text/plain": [
       "0.7142857142857143"
      ]
     },
     "execution_count": 36,
     "metadata": {},
     "output_type": "execute_result"
    }
   ],
   "source": [
    "# the RF model appears to be okay at predicting negative performances\n",
    "\n",
    "np.mean(yhat_rfc[yprob_rfc<.5]==Y_test[yprob_rfc<.5])"
   ]
  },
  {
   "cell_type": "code",
   "execution_count": 37,
   "metadata": {},
   "outputs": [],
   "source": [
    "from sklearn.metrics import roc_curve"
   ]
  },
  {
   "cell_type": "code",
   "execution_count": 38,
   "metadata": {},
   "outputs": [
    {
     "data": {
      "image/png": "[encoded data removed]",
      "text/plain": [
       "<Figure size 432x288 with 1 Axes>"
      ]
     },
     "metadata": {
      "needs_background": "light"
     },
     "output_type": "display_data"
    }
   ],
   "source": [
    "fpr_rf, tpr_rf, _ = roc_curve(Y_test, yprob_rfc)\n",
    "plt.plot([0, 1], [0, 1], 'k--')\n",
    "plt.plot(fpr_rf, tpr_rf, label='RF')\n",
    "plt.xlabel('False positive rate')\n",
    "plt.ylabel('True positive rate')\n",
    "plt.title('ROC curve')\n",
    "plt.legend(loc='best')\n",
    "plt.show()\n",
    "\n",
    "# the shape of the ROC doesn't look good though for this particular model"
   ]
  },
  {
   "cell_type": "markdown",
   "metadata": {},
   "source": [
    "#### Run the strategy on the test set but incorporate the predictions from the trained RF model to help decide position size. \n",
    "\n",
    "Here, it does not look like the RF model helped much... However, with better features and volume bars (instead of minute bars), this methodology should yield decent results. \n",
    "\n",
    "As stated earlier, this notebook only seeks to provide the framework for using Meta Labelling to help generate better trading performance. Much optimization and improvement can be added in the future. "
   ]
  },
  {
   "cell_type": "code",
   "execution_count": 39,
   "metadata": {},
   "outputs": [],
   "source": [
    "df4 = data.loc['2020-01-01':].copy()"
   ]
  },
  {
   "cell_type": "code",
   "execution_count": 40,
   "metadata": {
    "scrolled": true
   },
   "outputs": [
    {
     "name": "stdout",
     "output_type": "stream",
     "text": [
      "take profits: 6     stopped out: 26     time breaches: 67 \n",
      "pos_ret: 31     neg_ret: 41 \n",
      "eop_closes: 0     eop_prct_change 1     jump: 0 \n",
      "\n"
     ]
    }
   ],
   "source": [
    "# run the strategy on the test set with the trained RF model \n",
    "# and position size for predicted poor signals at 80% of portfolio\n",
    "\n",
    "cumRet, pmdd, cr_m, pmdd_m = mixed_strategy_noncont_meta(df4.copy(), 5400, 270, 1.75, ml_model=fit_rfc, ps=.8)\n",
    "df4.index = pd.to_datetime(df4.index)"
   ]
  },
  {
   "cell_type": "code",
   "execution_count": 41,
   "metadata": {},
   "outputs": [
    {
     "data": {
      "text/plain": [
       "1.12607532542052"
      ]
     },
     "execution_count": 41,
     "metadata": {},
     "output_type": "execute_result"
    }
   ],
   "source": [
    "# performance result without help from ML model\n",
    "\n",
    "cumRet[-1]"
   ]
  },
  {
   "cell_type": "code",
   "execution_count": 42,
   "metadata": {
    "scrolled": true
   },
   "outputs": [
    {
     "data": {
      "text/plain": [
       "1.1037206257788257"
      ]
     },
     "execution_count": 42,
     "metadata": {},
     "output_type": "execute_result"
    }
   ],
   "source": [
    "# performance result WITH help from ML model\n",
    "# not as good as without\n",
    "\n",
    "cr_m[-1]"
   ]
  },
  {
   "cell_type": "code",
   "execution_count": null,
   "metadata": {},
   "outputs": [],
   "source": []
  },
  {
   "cell_type": "code",
   "execution_count": null,
   "metadata": {},
   "outputs": [],
   "source": []
  }
 ],
 "metadata": {
  "kernelspec": {
   "display_name": "Python 3",
   "language": "python",
   "name": "python3"
  },
  "language_info": {
   "codemirror_mode": {
    "name": "ipython",
    "version": 3
   },
   "file_extension": ".py",
   "mimetype": "text/x-python",
   "name": "python",
   "nbconvert_exporter": "python",
   "pygments_lexer": "ipython3",
   "version": "3.5.6"
  }
 },
 "nbformat": 4,
 "nbformat_minor": 2
}
